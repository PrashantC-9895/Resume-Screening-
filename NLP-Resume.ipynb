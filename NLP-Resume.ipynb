{
 "cells": [
  {
   "cell_type": "code",
   "execution_count": 2,
   "id": "9a198fa1",
   "metadata": {},
   "outputs": [],
   "source": [
    "import numpy as np\n",
    "import pandas as pd\n",
    "import matplotlib.pyplot as plt \n",
    "import seaborn as sns\n",
    "import sklearn\n",
    "import nltk "
   ]
  },
  {
   "cell_type": "code",
   "execution_count": 3,
   "id": "1347d9a2",
   "metadata": {},
   "outputs": [
    {
     "data": {
      "text/html": [
       "<div>\n",
       "<style scoped>\n",
       "    .dataframe tbody tr th:only-of-type {\n",
       "        vertical-align: middle;\n",
       "    }\n",
       "\n",
       "    .dataframe tbody tr th {\n",
       "        vertical-align: top;\n",
       "    }\n",
       "\n",
       "    .dataframe thead th {\n",
       "        text-align: right;\n",
       "    }\n",
       "</style>\n",
       "<table border=\"1\" class=\"dataframe\">\n",
       "  <thead>\n",
       "    <tr style=\"text-align: right;\">\n",
       "      <th></th>\n",
       "      <th>Category</th>\n",
       "      <th>Resume</th>\n",
       "    </tr>\n",
       "  </thead>\n",
       "  <tbody>\n",
       "    <tr>\n",
       "      <th>0</th>\n",
       "      <td>Data Science</td>\n",
       "      <td>Skills * Programming Languages: Python (pandas...</td>\n",
       "    </tr>\n",
       "    <tr>\n",
       "      <th>1</th>\n",
       "      <td>Data Science</td>\n",
       "      <td>Education Details \\nMay 2013 to May 2017 B.E  ...</td>\n",
       "    </tr>\n",
       "    <tr>\n",
       "      <th>2</th>\n",
       "      <td>Data Science</td>\n",
       "      <td>Areas of Interest Deep Learning, Control Syste...</td>\n",
       "    </tr>\n",
       "    <tr>\n",
       "      <th>3</th>\n",
       "      <td>Data Science</td>\n",
       "      <td>Skills â¢ R â¢ Python â¢ SAP HANA â¢ Table...</td>\n",
       "    </tr>\n",
       "    <tr>\n",
       "      <th>4</th>\n",
       "      <td>Data Science</td>\n",
       "      <td>Education Details \\n MCA   YMCAUST,  Faridabad...</td>\n",
       "    </tr>\n",
       "  </tbody>\n",
       "</table>\n",
       "</div>"
      ],
      "text/plain": [
       "       Category                                             Resume\n",
       "0  Data Science  Skills * Programming Languages: Python (pandas...\n",
       "1  Data Science  Education Details \\nMay 2013 to May 2017 B.E  ...\n",
       "2  Data Science  Areas of Interest Deep Learning, Control Syste...\n",
       "3  Data Science  Skills â¢ R â¢ Python â¢ SAP HANA â¢ Table...\n",
       "4  Data Science  Education Details \\n MCA   YMCAUST,  Faridabad..."
      ]
     },
     "execution_count": 3,
     "metadata": {},
     "output_type": "execute_result"
    }
   ],
   "source": [
    "#uploading the dataset\n",
    "df = pd.read_csv('ResumeDataSet.csv')\n",
    "df.head()"
   ]
  },
  {
   "cell_type": "code",
   "execution_count": 4,
   "id": "6aeb5841",
   "metadata": {},
   "outputs": [
    {
     "name": "stdout",
     "output_type": "stream",
     "text": [
      "<class 'pandas.core.frame.DataFrame'>\n",
      "RangeIndex: 962 entries, 0 to 961\n",
      "Data columns (total 2 columns):\n",
      " #   Column    Non-Null Count  Dtype \n",
      "---  ------    --------------  ----- \n",
      " 0   Category  962 non-null    object\n",
      " 1   Resume    962 non-null    object\n",
      "dtypes: object(2)\n",
      "memory usage: 15.2+ KB\n"
     ]
    }
   ],
   "source": [
    "df.info()"
   ]
  },
  {
   "cell_type": "code",
   "execution_count": 5,
   "id": "8ad2a50c",
   "metadata": {},
   "outputs": [
    {
     "data": {
      "text/plain": [
       "Category    0\n",
       "Resume      0\n",
       "dtype: int64"
      ]
     },
     "execution_count": 5,
     "metadata": {},
     "output_type": "execute_result"
    }
   ],
   "source": [
    "df.isnull().sum()"
   ]
  },
  {
   "cell_type": "code",
   "execution_count": 6,
   "id": "59add844",
   "metadata": {},
   "outputs": [
    {
     "data": {
      "text/plain": [
       "(962, 2)"
      ]
     },
     "execution_count": 6,
     "metadata": {},
     "output_type": "execute_result"
    }
   ],
   "source": [
    "df.shape"
   ]
  },
  {
   "cell_type": "code",
   "execution_count": 7,
   "id": "110ebce7",
   "metadata": {},
   "outputs": [
    {
     "data": {
      "text/html": [
       "<div>\n",
       "<style scoped>\n",
       "    .dataframe tbody tr th:only-of-type {\n",
       "        vertical-align: middle;\n",
       "    }\n",
       "\n",
       "    .dataframe tbody tr th {\n",
       "        vertical-align: top;\n",
       "    }\n",
       "\n",
       "    .dataframe thead th {\n",
       "        text-align: right;\n",
       "    }\n",
       "</style>\n",
       "<table border=\"1\" class=\"dataframe\">\n",
       "  <thead>\n",
       "    <tr style=\"text-align: right;\">\n",
       "      <th></th>\n",
       "      <th>Category</th>\n",
       "      <th>Resume</th>\n",
       "    </tr>\n",
       "  </thead>\n",
       "  <tbody>\n",
       "    <tr>\n",
       "      <th>0</th>\n",
       "      <td>Data Science</td>\n",
       "      <td>Skills * Programming Languages: Python (pandas...</td>\n",
       "    </tr>\n",
       "    <tr>\n",
       "      <th>1</th>\n",
       "      <td>Data Science</td>\n",
       "      <td>Education Details \\nMay 2013 to May 2017 B.E  ...</td>\n",
       "    </tr>\n",
       "  </tbody>\n",
       "</table>\n",
       "</div>"
      ],
      "text/plain": [
       "       Category                                             Resume\n",
       "0  Data Science  Skills * Programming Languages: Python (pandas...\n",
       "1  Data Science  Education Details \\nMay 2013 to May 2017 B.E  ..."
      ]
     },
     "execution_count": 7,
     "metadata": {},
     "output_type": "execute_result"
    }
   ],
   "source": [
    "df1 = df\n",
    "df1.head(2)"
   ]
  },
  {
   "cell_type": "code",
   "execution_count": 8,
   "id": "fcfed0fb",
   "metadata": {},
   "outputs": [],
   "source": [
    "#splitiing dataset into dependent and independent in x and y variables respectively\n",
    "x = df.iloc[:,1]\n",
    "y = df.iloc[:,0]"
   ]
  },
  {
   "cell_type": "code",
   "execution_count": 9,
   "id": "fa33f22e",
   "metadata": {},
   "outputs": [
    {
     "data": {
      "text/plain": [
       "0    Skills * Programming Languages: Python (pandas...\n",
       "1    Education Details \\nMay 2013 to May 2017 B.E  ...\n",
       "2    Areas of Interest Deep Learning, Control Syste...\n",
       "3    Skills â¢ R â¢ Python â¢ SAP HANA â¢ Table...\n",
       "4    Education Details \\n MCA   YMCAUST,  Faridabad...\n",
       "Name: Resume, dtype: object"
      ]
     },
     "execution_count": 9,
     "metadata": {},
     "output_type": "execute_result"
    }
   ],
   "source": [
    "x.head()"
   ]
  },
  {
   "cell_type": "code",
   "execution_count": 10,
   "id": "4d7c88f1",
   "metadata": {},
   "outputs": [
    {
     "data": {
      "text/plain": [
       "0    Data Science\n",
       "1    Data Science\n",
       "2    Data Science\n",
       "3    Data Science\n",
       "4    Data Science\n",
       "Name: Category, dtype: object"
      ]
     },
     "execution_count": 10,
     "metadata": {},
     "output_type": "execute_result"
    }
   ],
   "source": [
    "y.head()"
   ]
  },
  {
   "cell_type": "code",
   "execution_count": 11,
   "id": "4a8bf082",
   "metadata": {},
   "outputs": [],
   "source": [
    "from sklearn.model_selection import train_test_split\n",
    "x_train,x_test,y_train,y_test = train_test_split(x,y,test_size = 0.33,random_state = 42)"
   ]
  },
  {
   "cell_type": "code",
   "execution_count": 12,
   "id": "52f20cd8",
   "metadata": {},
   "outputs": [
    {
     "data": {
      "text/plain": [
       "(644, 318, 644, 318)"
      ]
     },
     "execution_count": 12,
     "metadata": {},
     "output_type": "execute_result"
    }
   ],
   "source": [
    "len(x_train)  ,  len(x_test,),    len(y_train)   ,    len(y_test)"
   ]
  },
  {
   "cell_type": "code",
   "execution_count": 13,
   "id": "caac8bcd",
   "metadata": {},
   "outputs": [
    {
     "data": {
      "text/html": [
       "<div>\n",
       "<style scoped>\n",
       "    .dataframe tbody tr th:only-of-type {\n",
       "        vertical-align: middle;\n",
       "    }\n",
       "\n",
       "    .dataframe tbody tr th {\n",
       "        vertical-align: top;\n",
       "    }\n",
       "\n",
       "    .dataframe thead th {\n",
       "        text-align: right;\n",
       "    }\n",
       "</style>\n",
       "<table border=\"1\" class=\"dataframe\">\n",
       "  <thead>\n",
       "    <tr style=\"text-align: right;\">\n",
       "      <th></th>\n",
       "      <th>Resume</th>\n",
       "      <th>Category</th>\n",
       "    </tr>\n",
       "  </thead>\n",
       "  <tbody>\n",
       "    <tr>\n",
       "      <th>181</th>\n",
       "      <td>Education Details \\n B.C.A Bachelor Computer A...</td>\n",
       "      <td>Web Designing</td>\n",
       "    </tr>\n",
       "    <tr>\n",
       "      <th>274</th>\n",
       "      <td>SKILLS: Computer: â¢ Can easily operate in Op...</td>\n",
       "      <td>Health and fitness</td>\n",
       "    </tr>\n",
       "    <tr>\n",
       "      <th>859</th>\n",
       "      <td>KEY SKILLS: Programing languages: C, C++, Pyth...</td>\n",
       "      <td>Blockchain</td>\n",
       "    </tr>\n",
       "    <tr>\n",
       "      <th>69</th>\n",
       "      <td>KEY SKILLS: â¢ Computerized accounting with t...</td>\n",
       "      <td>HR</td>\n",
       "    </tr>\n",
       "    <tr>\n",
       "      <th>291</th>\n",
       "      <td>Personal Skills: â¢ Good verbal and written c...</td>\n",
       "      <td>Health and fitness</td>\n",
       "    </tr>\n",
       "  </tbody>\n",
       "</table>\n",
       "</div>"
      ],
      "text/plain": [
       "                                                Resume            Category\n",
       "181  Education Details \\n B.C.A Bachelor Computer A...       Web Designing\n",
       "274  SKILLS: Computer: â¢ Can easily operate in Op...  Health and fitness\n",
       "859  KEY SKILLS: Programing languages: C, C++, Pyth...          Blockchain\n",
       "69   KEY SKILLS: â¢ Computerized accounting with t...                  HR\n",
       "291  Personal Skills: â¢ Good verbal and written c...  Health and fitness"
      ]
     },
     "execution_count": 13,
     "metadata": {},
     "output_type": "execute_result"
    }
   ],
   "source": [
    "training_data = pd.concat([x_train,y_train],axis = 1)\n",
    "training_data.head()"
   ]
  },
  {
   "cell_type": "code",
   "execution_count": 14,
   "id": "f233d19d",
   "metadata": {},
   "outputs": [
    {
     "data": {
      "text/html": [
       "<div>\n",
       "<style scoped>\n",
       "    .dataframe tbody tr th:only-of-type {\n",
       "        vertical-align: middle;\n",
       "    }\n",
       "\n",
       "    .dataframe tbody tr th {\n",
       "        vertical-align: top;\n",
       "    }\n",
       "\n",
       "    .dataframe thead th {\n",
       "        text-align: right;\n",
       "    }\n",
       "</style>\n",
       "<table border=\"1\" class=\"dataframe\">\n",
       "  <thead>\n",
       "    <tr style=\"text-align: right;\">\n",
       "      <th></th>\n",
       "      <th>Resume</th>\n",
       "      <th>Category</th>\n",
       "    </tr>\n",
       "  </thead>\n",
       "  <tbody>\n",
       "    <tr>\n",
       "      <th>344</th>\n",
       "      <td>TECHNICAL SKILLS Programming Languages: Java (...</td>\n",
       "      <td>Java Developer</td>\n",
       "    </tr>\n",
       "    <tr>\n",
       "      <th>381</th>\n",
       "      <td>TECHNICALSKILLS SpringMVC, Hibernate, JDBC, Ja...</td>\n",
       "      <td>Java Developer</td>\n",
       "    </tr>\n",
       "    <tr>\n",
       "      <th>351</th>\n",
       "      <td>Education Details \\nJanuary 2013 Master of Eng...</td>\n",
       "      <td>Java Developer</td>\n",
       "    </tr>\n",
       "    <tr>\n",
       "      <th>778</th>\n",
       "      <td>Skill Set: Hadoop, Map Reduce, HDFS, Hive, Sqo...</td>\n",
       "      <td>Hadoop</td>\n",
       "    </tr>\n",
       "    <tr>\n",
       "      <th>277</th>\n",
       "      <td>Education Details \\nJanuary 1992 to January 20...</td>\n",
       "      <td>Health and fitness</td>\n",
       "    </tr>\n",
       "  </tbody>\n",
       "</table>\n",
       "</div>"
      ],
      "text/plain": [
       "                                                Resume            Category\n",
       "344  TECHNICAL SKILLS Programming Languages: Java (...      Java Developer\n",
       "381  TECHNICALSKILLS SpringMVC, Hibernate, JDBC, Ja...      Java Developer\n",
       "351  Education Details \\nJanuary 2013 Master of Eng...      Java Developer\n",
       "778  Skill Set: Hadoop, Map Reduce, HDFS, Hive, Sqo...              Hadoop\n",
       "277  Education Details \\nJanuary 1992 to January 20...  Health and fitness"
      ]
     },
     "execution_count": 14,
     "metadata": {},
     "output_type": "execute_result"
    }
   ],
   "source": [
    "testing_data = pd.concat([x_test,y_test],axis = 1)\n",
    "testing_data.head()"
   ]
  },
  {
   "cell_type": "code",
   "execution_count": 15,
   "id": "2b624f53",
   "metadata": {},
   "outputs": [
    {
     "data": {
      "text/plain": [
       "array(['Web Designing', 'Health and fitness', 'Blockchain', 'HR', 'Arts',\n",
       "       'Civil Engineer', 'Java Developer', 'ETL Developer',\n",
       "       'Data Science', 'Operations Manager', 'Mechanical Engineer',\n",
       "       'Network Security Engineer', 'Database', 'Electrical Engineering',\n",
       "       'DevOps Engineer', 'PMO', 'Sales', 'Hadoop', 'DotNet Developer',\n",
       "       'Automation Testing', 'Testing', 'Python Developer',\n",
       "       'Business Analyst', 'SAP Developer', 'Advocate'], dtype=object)"
      ]
     },
     "execution_count": 15,
     "metadata": {},
     "output_type": "execute_result"
    }
   ],
   "source": [
    "training_data['Category'].unique()"
   ]
  },
  {
   "cell_type": "code",
   "execution_count": 16,
   "id": "b5327133",
   "metadata": {},
   "outputs": [
    {
     "data": {
      "text/plain": [
       "Java Developer               54\n",
       "Testing                      43\n",
       "Web Designing                37\n",
       "DevOps Engineer              34\n",
       "Python Developer             32\n",
       "Hadoop                       32\n",
       "ETL Developer                31\n",
       "Blockchain                   28\n",
       "Data Science                 28\n",
       "Sales                        28\n",
       "Mechanical Engineer          27\n",
       "HR                           26\n",
       "Arts                         26\n",
       "Database                     24\n",
       "Operations Manager           22\n",
       "PMO                          21\n",
       "Electrical Engineering       20\n",
       "Health and fitness           20\n",
       "Network Security Engineer    19\n",
       "Automation Testing           19\n",
       "Business Analyst             19\n",
       "DotNet Developer             17\n",
       "SAP Developer                14\n",
       "Advocate                     13\n",
       "Civil Engineer               10\n",
       "Name: Category, dtype: int64"
      ]
     },
     "execution_count": 16,
     "metadata": {},
     "output_type": "execute_result"
    }
   ],
   "source": [
    "training_data['Category'].value_counts()"
   ]
  },
  {
   "cell_type": "code",
   "execution_count": 17,
   "id": "89d611be",
   "metadata": {},
   "outputs": [
    {
     "data": {
      "text/plain": [
       "(644, 2)"
      ]
     },
     "execution_count": 17,
     "metadata": {},
     "output_type": "execute_result"
    }
   ],
   "source": [
    "training_data.shape"
   ]
  },
  {
   "cell_type": "code",
   "execution_count": 18,
   "id": "d8917392",
   "metadata": {},
   "outputs": [
    {
     "name": "stdout",
     "output_type": "stream",
     "text": [
      "<class 'pandas.core.series.Series'>\n",
      "Int64Index: 644 entries, 181 to 102\n",
      "Series name: Category\n",
      "Non-Null Count  Dtype \n",
      "--------------  ----- \n",
      "644 non-null    object\n",
      "dtypes: object(1)\n",
      "memory usage: 10.1+ KB\n"
     ]
    }
   ],
   "source": [
    "training_data['Category'].info()"
   ]
  },
  {
   "cell_type": "code",
   "execution_count": 19,
   "id": "b20bbdb6",
   "metadata": {},
   "outputs": [
    {
     "name": "stdout",
     "output_type": "stream",
     "text": [
      "25\n"
     ]
    }
   ],
   "source": [
    "print(len(training_data['Category'].unique()))"
   ]
  },
  {
   "cell_type": "markdown",
   "id": "7e0715db",
   "metadata": {},
   "source": [
    "## EDA"
   ]
  },
  {
   "cell_type": "code",
   "execution_count": 20,
   "id": "f343475c",
   "metadata": {},
   "outputs": [
    {
     "data": {
      "image/png": "[encoded data removed]",
      "text/plain": [
       "<Figure size 1000x1000 with 1 Axes>"
      ]
     },
     "metadata": {},
     "output_type": "display_data"
    }
   ],
   "source": [
    "plt.figure(figsize= (10,10))\n",
    "plt.xticks(rotation = 90)\n",
    "sns.countplot(y = training_data['Category'])\n",
    "plt.title(\"Distribution of Categories\", fontsize= 20)\n",
    "plt.ylabel('Category',fontsize = 15)\n",
    "plt.xlabel('Count',fontsize = 15)\n",
    "plt.show()"
   ]
  },
  {
   "cell_type": "code",
   "execution_count": 21,
   "id": "459b6feb",
   "metadata": {},
   "outputs": [
    {
     "data": {
      "text/plain": [
       "<Axes: ylabel='Category'>"
      ]
     },
     "execution_count": 21,
     "metadata": {},
     "output_type": "execute_result"
    },
    {
     "data": {
      "image/png": "[encoded data removed]",
      "text/plain": [
       "<Figure size 1000x1000 with 1 Axes>"
      ]
     },
     "metadata": {},
     "output_type": "display_data"
    }
   ],
   "source": [
    "plt.figure(figsize = (10,10))\n",
    "training_data['Category'].value_counts().plot(kind = 'pie',autopct = '%1.1f%%')"
   ]
  },
  {
   "cell_type": "markdown",
   "id": "4cf03618",
   "metadata": {},
   "source": [
    "## Text Preprocessing \n",
    "#### text preprocessing on both train and test data "
   ]
  },
  {
   "cell_type": "code",
   "execution_count": 22,
   "id": "051d5c2b",
   "metadata": {},
   "outputs": [
    {
     "data": {
      "text/html": [
       "<div>\n",
       "<style scoped>\n",
       "    .dataframe tbody tr th:only-of-type {\n",
       "        vertical-align: middle;\n",
       "    }\n",
       "\n",
       "    .dataframe tbody tr th {\n",
       "        vertical-align: top;\n",
       "    }\n",
       "\n",
       "    .dataframe thead th {\n",
       "        text-align: right;\n",
       "    }\n",
       "</style>\n",
       "<table border=\"1\" class=\"dataframe\">\n",
       "  <thead>\n",
       "    <tr style=\"text-align: right;\">\n",
       "      <th></th>\n",
       "      <th>Resume</th>\n",
       "      <th>Category</th>\n",
       "    </tr>\n",
       "  </thead>\n",
       "  <tbody>\n",
       "    <tr>\n",
       "      <th>181</th>\n",
       "      <td>Education Details \\n B.C.A Bachelor Computer A...</td>\n",
       "      <td>Web Designing</td>\n",
       "    </tr>\n",
       "    <tr>\n",
       "      <th>274</th>\n",
       "      <td>SKILLS: Computer: â¢ Can easily operate in Op...</td>\n",
       "      <td>Health and fitness</td>\n",
       "    </tr>\n",
       "    <tr>\n",
       "      <th>859</th>\n",
       "      <td>KEY SKILLS: Programing languages: C, C++, Pyth...</td>\n",
       "      <td>Blockchain</td>\n",
       "    </tr>\n",
       "    <tr>\n",
       "      <th>69</th>\n",
       "      <td>KEY SKILLS: â¢ Computerized accounting with t...</td>\n",
       "      <td>HR</td>\n",
       "    </tr>\n",
       "    <tr>\n",
       "      <th>291</th>\n",
       "      <td>Personal Skills: â¢ Good verbal and written c...</td>\n",
       "      <td>Health and fitness</td>\n",
       "    </tr>\n",
       "  </tbody>\n",
       "</table>\n",
       "</div>"
      ],
      "text/plain": [
       "                                                Resume            Category\n",
       "181  Education Details \\n B.C.A Bachelor Computer A...       Web Designing\n",
       "274  SKILLS: Computer: â¢ Can easily operate in Op...  Health and fitness\n",
       "859  KEY SKILLS: Programing languages: C, C++, Pyth...          Blockchain\n",
       "69   KEY SKILLS: â¢ Computerized accounting with t...                  HR\n",
       "291  Personal Skills: â¢ Good verbal and written c...  Health and fitness"
      ]
     },
     "execution_count": 22,
     "metadata": {},
     "output_type": "execute_result"
    }
   ],
   "source": [
    "training_data.head()"
   ]
  },
  {
   "cell_type": "code",
   "execution_count": 23,
   "id": "3044da29",
   "metadata": {},
   "outputs": [
    {
     "data": {
      "text/plain": [
       "'Education Details \\n B.C.A Bachelor Computer Application Pune, Maharashtra Pune University\\n H.S.C.  Pune, Maharashtra Pune University\\n S.S.C.  Pune, Maharashtra Pune University\\nWeb Designing and Developer \\n\\nphp Developer - Exposys Pvt. Ltd\\nSkill Details \\nCompany Details \\ncompany - Exposys Pvt. Ltd\\ndescription - Technical Skills\\nWeb Development: HTML5, CSS3, Bootstrap, PHP, Ajax, Jquery, JavaScript.\\nDatabase: MySQL.\\nDevelopment Tools: Notepad++, Sublime Text2.\\nFramework: Codeigniter.\\nServer: Apache tomcat, Xampp Control Panel.\\nOperating Systems: Windows.\\ncompany - Exposys Pvt. Ltd\\ndescription - Pune.\\tAugest 2017 to till date\\n\\nProject Details:\\nProject-I: Pragat Bharat System\\nTechnologies Used: HTML, CSS, BOOTSTRAP, PHP, JQUERY, AJAX.\\nDatabase Used: My SQL.\\nTeam size: 1\\nPosition: Software Developer\\nSynopsis: This project aim is specially design for people. It is used to collect information to diifernt sector.\\n\\nProject-II: Go Ayur System\\nTechnologies Used: HTML, CSS, BOOTSTRAP, PHP, JQUERY, AJAX.\\nDatabase Used: My SQL.\\nTeam size: 2\\nPosition: Software Developer\\nSynopsis: Go Ayurveda Panchakarma center is one of most traditionally well established, professional and innovative providers of Classical\\nAyurvedic Health services and Kerala Panchakarma therapies.\\n\\nProject-III: Vitsanindia System\\nTechnologies Used: HTML, CSS, BOOTSTRAP, PHP, JQUERY, AJAX, JAVA SCRIPT.\\nDatabase Used: My SQL.\\nTeam size: 2\\nPosition: Software Developer\\nSynopsis: Online Shooping through app. This app is user friendly because there is a option for change language. User can to find different categories products as there choice.\\n\\nProject-IV: MahabaleshwarTours\\nTechnologies Used: HTML, CSS, BOOTSTRAP, PHP, JQUERY, AJAX, JAVA SCRIPT.\\nDatabase Used: My SQL.\\nTeam size: 1\\nPosition: Software Developer\\nSynopsis: In this system is to provide Online Registration, Tour Package Information, Ticket Booking, Online Payment and Searching Facility for Customer and also Generate Different types of Report.\\n\\nProject-V: Cityspaceindia\\nTechnologies Used: HTML, CSS, BOOTSTRAP, PHP, JQUERY, AJAX, JAVA SCRIPT.\\nDatabase Used: My SQL.\\nTeam size: 1\\nPosition: Software Developer\\nSynopsis: Service provider website we provide different categories.\\n\\nProject-VI: Fruitsbuddy\\nTechnologies Used: HTML, CSS, BOOTSTRAP, PHP, JQUERY, AJAX, JAVA SCRIPT.\\nDatabase Used: My SQL.\\nTeam size: 1\\nPosition: Software Developer\\nSynopsis: Fruitbuddy is to manage the details of fruits, Customer, Order, Transaction, Payment. It manages all the information about fruits, Stocks, Payment. The project is totally built at administrative end and thus only the administrator is guaranteed the access. The purpose of the project is to build an application program to reduce the manual work for managing the fruits, Customer, Stocks, Order.\\n\\nProject-VII: Totalcitee\\nTechnologies Used: HTML, CSS, BOOTSTRAP, PHP, JQUERY, AJAX, JAVA SCRIPT.\\nDatabase Used: My SQL.\\nTeam size: 1\\nPosition: Software Developer\\nSynopsis: Real Estate web application has been created for helping you to sell properties through web based user interface. Visitors on your website can view particular desired products using search engine facility.\\n\\nProject-VIII: Golchha\\nTechnologies Used: HTML, CSS, BOOTSTRAP, PHP, JQUERY, AJAX, JAVA SCRIPT.\\nDatabase Used: My SQL.\\nTeam size: 1\\nPosition: Software Developer\\nSynopsis: Service provider website we provide different categories.'"
      ]
     },
     "execution_count": 23,
     "metadata": {},
     "output_type": "execute_result"
    }
   ],
   "source": [
    "training_data[\"Resume\"][181]"
   ]
  },
  {
   "cell_type": "code",
   "execution_count": 24,
   "id": "168848ad",
   "metadata": {},
   "outputs": [
    {
     "data": {
      "text/plain": [
       "\"SKILLS: Computer: â\\x80¢ Can easily operate in Operating System like Windows 10. â\\x80¢ Can work in Ms-Office (Word, Excel, and PowerPoint). â\\x80¢ Can easily operate internet & Gym Management Software (website & mobile application).Education Details \\nJanuary 2010 Advance Diploma in Hotel Management   J&W Institute of Hotel Management\\nGym management & Consultant \\n\\nGym management & Consultant - Sculpt Fitness Centre\\nSkill Details \\nExcel- Exprience - 96 months\\nPowerPoint- Exprience - 96 months\\nWord- Exprience - 96 months\\nGym Management Software- Exprience - 96 monthsCompany Details \\ncompany - Sculpt Fitness Centre\\ndescription - 2015 - Present\\tSales, Fitness, Operations\\ncompany - AB's Fitness Club\\ndescription - Fitness, Sales, Administration, Facility & House-keeping\\ncompany - AB's Fitness Club\\ndescription - Sales, Fitness, Operations\\ncompany - Ultimate Fitness Club\\ndescription - \\ncompany - Tripod Fitness Arena\\ndescription - Sales, Administration\\ncompany - C K Fitness\\ndescription - Sales & Fitness Staff Recruitment\\n\\nKEY ROLES:\\nâ\\x80¢ Designing and promoting activities to meet customer demand and generate revenue;\\nâ\\x80¢ Advertising and promoting the club or Centre to increase usage, considering market research;\\nâ\\x80¢ Recruiting, training and supervising staff, including managing staff rotas;\\nâ\\x80¢ Taking Daily/weekly/monthly reporting from Fitness Manager, Sales Team Lead And Housekeeping Head;\\nâ\\x80¢ Carrying out health and safety checks on the equipment and site;\\nâ\\x80¢ Retaining existing members by providing good quality of service and by providing good sales programs;\\nâ\\x80¢ Prioritizing target activities and user groups (especially in local authority Centres);\\nâ\\x80¢ Customer Relationship;\\nâ\\x80¢ Providing training to the sales staff to Deal with enquiries, complaints and emergencies\\nâ\\x80¢ Delivering some fitness training or coaching in sports activities - often a good way of maintaining contact with customers;\\nâ\\x80¢ Preparing and checking budgets and generating revenue;\\nâ\\x80¢ Cashing-up and keeping stock records of supplements;\\nâ\\x80¢ Utilizing Group-X studio by scheduling exciting grouper's batches;\\nâ\\x80¢ Writing monthly or weekly reports and preparing cash projections for Centre owners;\\nâ\\x80¢ Enhancing profitability by organizing and delivering an appropriate range of fitness activities/programs;\\nâ\\x80¢ Keeping statistical and financial records;\\nâ\\x80¢ Keeping check on the Maintenance of fitness equipment & other facilities;\\nâ\\x80¢ Ensuring compliance with health and safety legislation;\\nâ\\x80¢ Maintaining customer service, Fitness & Hospitality standards;\\nâ\\x80¢ Planning;\\nâ\\x80¢ Undertaking administrative tasks;\\nâ\\x80¢ Promoting and marketing the business;\\ncompany - Endurance Fitness Club\\ndescription - Fitness, Sales, Administration, Facility & House-keeping\""
      ]
     },
     "execution_count": 24,
     "metadata": {},
     "output_type": "execute_result"
    }
   ],
   "source": [
    "training_data[\"Resume\"][274]"
   ]
  },
  {
   "cell_type": "code",
   "execution_count": 25,
   "id": "f40a3cbb",
   "metadata": {},
   "outputs": [],
   "source": [
    "#In Text preprocessing we do---\n",
    "#revome URls, hastags, mentions, RT\\CC, resume text and whitespace with the help of refunction\n",
    "#change the string into lowercase\n",
    "# tokenize the string\n",
    "#remove special character\n",
    "# remove punctuations marks\n",
    "# remove stopwords\n",
    "# apply stemming with the help of nltk library"
   ]
  },
  {
   "cell_type": "code",
   "execution_count": 26,
   "id": "53ebb2bf",
   "metadata": {},
   "outputs": [
    {
     "name": "stderr",
     "output_type": "stream",
     "text": [
      "[nltk_data] Downloading package punkt to\n",
      "[nltk_data]     C:\\Users\\pcrid\\AppData\\Roaming\\nltk_data...\n",
      "[nltk_data]   Package punkt is already up-to-date!\n",
      "[nltk_data] Downloading package stopwords to\n",
      "[nltk_data]     C:\\Users\\pcrid\\AppData\\Roaming\\nltk_data...\n",
      "[nltk_data]   Package stopwords is already up-to-date!\n"
     ]
    }
   ],
   "source": [
    "import re\n",
    "import string\n",
    "nltk.download('punkt')\n",
    "from nltk.corpus import stopwords\n",
    "nltk.download('stopwords')\n",
    "from nltk.tokenize import word_tokenize\n",
    "from nltk.stem import PorterStemmer\n",
    "stem = PorterStemmer()\n"
   ]
  },
  {
   "cell_type": "code",
   "execution_count": 27,
   "id": "c7ba02d2",
   "metadata": {},
   "outputs": [],
   "source": [
    "def text_preprocess(text):\n",
    "    text = re.sub('http\\S+\\s*',' ',text)\n",
    "    text = re.sub('@\\S+',' ',text)\n",
    "    text = re.sub('#\\S+',' ',text)\n",
    "    text = re.sub('RT/cc',' ',text)\n",
    "    text = re.sub('\\s+',' ',text)\n",
    "    text = re.sub('[^\\x00-\\x7f]',r' ',text)\n",
    "    text = text.lower()\n",
    "    text = nltk.word_tokenize(text)\n",
    "    \n",
    "    y=[]\n",
    "    for i in text:\n",
    "        if i.isalnum():\n",
    "            y.append(i)\n",
    "            \n",
    "    text = y[:]\n",
    "    y.clear()\n",
    "    for i in text:\n",
    "        if i not in stopwords.words('english') and i not in string.punctuation:\n",
    "            y.append(i)\n",
    "    \n",
    "    text = y[:]\n",
    "    y.clear()\n",
    "    \n",
    "    for i in text:\n",
    "        y.append(stem.stem(i))\n",
    "        \n",
    "    return' '.join(y)"
   ]
  },
  {
   "cell_type": "code",
   "execution_count": 28,
   "id": "ae273870",
   "metadata": {},
   "outputs": [],
   "source": [
    "training_data['New_Resume']= training_data[\"Resume\"].apply(text_preprocess)"
   ]
  },
  {
   "cell_type": "code",
   "execution_count": 29,
   "id": "83faeb17",
   "metadata": {},
   "outputs": [
    {
     "data": {
      "text/html": [
       "<div>\n",
       "<style scoped>\n",
       "    .dataframe tbody tr th:only-of-type {\n",
       "        vertical-align: middle;\n",
       "    }\n",
       "\n",
       "    .dataframe tbody tr th {\n",
       "        vertical-align: top;\n",
       "    }\n",
       "\n",
       "    .dataframe thead th {\n",
       "        text-align: right;\n",
       "    }\n",
       "</style>\n",
       "<table border=\"1\" class=\"dataframe\">\n",
       "  <thead>\n",
       "    <tr style=\"text-align: right;\">\n",
       "      <th></th>\n",
       "      <th>Resume</th>\n",
       "      <th>Category</th>\n",
       "      <th>New_Resume</th>\n",
       "    </tr>\n",
       "  </thead>\n",
       "  <tbody>\n",
       "    <tr>\n",
       "      <th>181</th>\n",
       "      <td>Education Details \\n B.C.A Bachelor Computer A...</td>\n",
       "      <td>Web Designing</td>\n",
       "      <td>educ detail bachelor comput applic pune mahara...</td>\n",
       "    </tr>\n",
       "    <tr>\n",
       "      <th>274</th>\n",
       "      <td>SKILLS: Computer: â¢ Can easily operate in Op...</td>\n",
       "      <td>Health and fitness</td>\n",
       "      <td>skill comput easili oper oper system like wind...</td>\n",
       "    </tr>\n",
       "    <tr>\n",
       "      <th>859</th>\n",
       "      <td>KEY SKILLS: Programing languages: C, C++, Pyth...</td>\n",
       "      <td>Blockchain</td>\n",
       "      <td>key skill program languag c python apex visual...</td>\n",
       "    </tr>\n",
       "    <tr>\n",
       "      <th>69</th>\n",
       "      <td>KEY SKILLS: â¢ Computerized accounting with t...</td>\n",
       "      <td>HR</td>\n",
       "      <td>key skill computer account talli sincer hard w...</td>\n",
       "    </tr>\n",
       "    <tr>\n",
       "      <th>291</th>\n",
       "      <td>Personal Skills: â¢ Good verbal and written c...</td>\n",
       "      <td>Health and fitness</td>\n",
       "      <td>person skill good verbal written commun skill ...</td>\n",
       "    </tr>\n",
       "  </tbody>\n",
       "</table>\n",
       "</div>"
      ],
      "text/plain": [
       "                                                Resume            Category  \\\n",
       "181  Education Details \\n B.C.A Bachelor Computer A...       Web Designing   \n",
       "274  SKILLS: Computer: â¢ Can easily operate in Op...  Health and fitness   \n",
       "859  KEY SKILLS: Programing languages: C, C++, Pyth...          Blockchain   \n",
       "69   KEY SKILLS: â¢ Computerized accounting with t...                  HR   \n",
       "291  Personal Skills: â¢ Good verbal and written c...  Health and fitness   \n",
       "\n",
       "                                            New_Resume  \n",
       "181  educ detail bachelor comput applic pune mahara...  \n",
       "274  skill comput easili oper oper system like wind...  \n",
       "859  key skill program languag c python apex visual...  \n",
       "69   key skill computer account talli sincer hard w...  \n",
       "291  person skill good verbal written commun skill ...  "
      ]
     },
     "execution_count": 29,
     "metadata": {},
     "output_type": "execute_result"
    }
   ],
   "source": [
    "training_data.head()"
   ]
  },
  {
   "cell_type": "code",
   "execution_count": 30,
   "id": "cf022d34",
   "metadata": {},
   "outputs": [
    {
     "data": {
      "text/plain": [
       "'softwar skill gener comput profici program langag known c java web program tool softwar know matlab dbm key strength poss good commun analyt skill posit think sincer hard work honesti respons enthusiast learn new skill take new task self motiv readi accept challeng educ detail januari 2014 januari 2017 comput scienc engin comput scienc engin adichunchanagiri institut technolog chikmagalur hr skill detail databas manag exprienc 6 month exprienc 6 month exprienc 6 month exprienc 6 monthscompani detail compani truli descript jayashre h'"
      ]
     },
     "execution_count": 30,
     "metadata": {},
     "output_type": "execute_result"
    }
   ],
   "source": [
    "#checking data was clear or not \n",
    "training_data['New_Resume'][50]"
   ]
  },
  {
   "cell_type": "code",
   "execution_count": 31,
   "id": "cfe7a05e",
   "metadata": {},
   "outputs": [
    {
     "data": {
      "text/plain": [
       "'technic skill respons hand experi product mainten project experi handl project agil methodolog experi handl project sdlc involv stage softwar develop life cycl respons gather requir custom interact provid estim solut document per process fs ts code utp utr ptf sow submiss custom strong knowledg debug test base python work chang control respons promot chang develop uat live environ pivot cloud foundri good commun skill inter person skill hardwork result orient individu team certif train complet intern python train complet intern python web crawl train complet intern python web scrape train complet intern python data scienc train complet intern mongodb train complet intern mysql train complet intern postgresql train complet intern django train complet intern angular 6 html css train complet german a1 level prepar a2 complet intern core java train complet ibm seri train cours mapl institut pune complet intern movex erp train techn complet intern m3 erp train techn java complet intern stream serv train complet m3 enterpris collabor mec detail comput scienc pune maharashtra pune univers comput scienc pune maharashtra pune univers pune maharashtra pune univers python rest api develop python develop kpit technolog skill detail exprienc less 1 year month exprienc less 1 year month exprienc less 1 year month exprienc less 1 year month exprienc less 1 year month exprienc 90 monthscompani detail compani kpit technolog descript sinc 6th juli 2011 till date current work python api develop 2 year experi project work m3 java develop stream serv develop erp 1 year work senior as400 stream serv develop erp 4 year technic expertis python develop python mongodb python mysql python cach memoiz python git python pw pivot web servic cloud foundri german a1 level erp develop m3 java erp as400 develop erp stream server develop erp standard ile rpg ile cl query400 subfil printer file pf lf flow program databas structur mi program'"
      ]
     },
     "execution_count": 31,
     "metadata": {},
     "output_type": "execute_result"
    }
   ],
   "source": [
    "training_data['New_Resume'][581]"
   ]
  },
  {
   "cell_type": "code",
   "execution_count": 32,
   "id": "c275107f",
   "metadata": {},
   "outputs": [
    {
     "data": {
      "text/html": [
       "<div>\n",
       "<style scoped>\n",
       "    .dataframe tbody tr th:only-of-type {\n",
       "        vertical-align: middle;\n",
       "    }\n",
       "\n",
       "    .dataframe tbody tr th {\n",
       "        vertical-align: top;\n",
       "    }\n",
       "\n",
       "    .dataframe thead th {\n",
       "        text-align: right;\n",
       "    }\n",
       "</style>\n",
       "<table border=\"1\" class=\"dataframe\">\n",
       "  <thead>\n",
       "    <tr style=\"text-align: right;\">\n",
       "      <th></th>\n",
       "      <th>Category</th>\n",
       "      <th>New_Resume</th>\n",
       "    </tr>\n",
       "  </thead>\n",
       "  <tbody>\n",
       "    <tr>\n",
       "      <th>181</th>\n",
       "      <td>Web Designing</td>\n",
       "      <td>educ detail bachelor comput applic pune mahara...</td>\n",
       "    </tr>\n",
       "    <tr>\n",
       "      <th>274</th>\n",
       "      <td>Health and fitness</td>\n",
       "      <td>skill comput easili oper oper system like wind...</td>\n",
       "    </tr>\n",
       "    <tr>\n",
       "      <th>859</th>\n",
       "      <td>Blockchain</td>\n",
       "      <td>key skill program languag c python apex visual...</td>\n",
       "    </tr>\n",
       "    <tr>\n",
       "      <th>69</th>\n",
       "      <td>HR</td>\n",
       "      <td>key skill computer account talli sincer hard w...</td>\n",
       "    </tr>\n",
       "    <tr>\n",
       "      <th>291</th>\n",
       "      <td>Health and fitness</td>\n",
       "      <td>person skill good verbal written commun skill ...</td>\n",
       "    </tr>\n",
       "  </tbody>\n",
       "</table>\n",
       "</div>"
      ],
      "text/plain": [
       "               Category                                         New_Resume\n",
       "181       Web Designing  educ detail bachelor comput applic pune mahara...\n",
       "274  Health and fitness  skill comput easili oper oper system like wind...\n",
       "859          Blockchain  key skill program languag c python apex visual...\n",
       "69                   HR  key skill computer account talli sincer hard w...\n",
       "291  Health and fitness  person skill good verbal written commun skill ..."
      ]
     },
     "execution_count": 32,
     "metadata": {},
     "output_type": "execute_result"
    }
   ],
   "source": [
    "#Now removing Resume column from training_data \n",
    "training_data = training_data.drop(['Resume'],axis = 1)\n",
    "training_data.head()"
   ]
  },
  {
   "cell_type": "code",
   "execution_count": 33,
   "id": "bf326ed3",
   "metadata": {},
   "outputs": [
    {
     "data": {
      "text/html": [
       "<div>\n",
       "<style scoped>\n",
       "    .dataframe tbody tr th:only-of-type {\n",
       "        vertical-align: middle;\n",
       "    }\n",
       "\n",
       "    .dataframe tbody tr th {\n",
       "        vertical-align: top;\n",
       "    }\n",
       "\n",
       "    .dataframe thead th {\n",
       "        text-align: right;\n",
       "    }\n",
       "</style>\n",
       "<table border=\"1\" class=\"dataframe\">\n",
       "  <thead>\n",
       "    <tr style=\"text-align: right;\">\n",
       "      <th></th>\n",
       "      <th>Resume</th>\n",
       "      <th>Category</th>\n",
       "    </tr>\n",
       "  </thead>\n",
       "  <tbody>\n",
       "    <tr>\n",
       "      <th>344</th>\n",
       "      <td>TECHNICAL SKILLS Programming Languages: Java (...</td>\n",
       "      <td>Java Developer</td>\n",
       "    </tr>\n",
       "    <tr>\n",
       "      <th>381</th>\n",
       "      <td>TECHNICALSKILLS SpringMVC, Hibernate, JDBC, Ja...</td>\n",
       "      <td>Java Developer</td>\n",
       "    </tr>\n",
       "    <tr>\n",
       "      <th>351</th>\n",
       "      <td>Education Details \\nJanuary 2013 Master of Eng...</td>\n",
       "      <td>Java Developer</td>\n",
       "    </tr>\n",
       "    <tr>\n",
       "      <th>778</th>\n",
       "      <td>Skill Set: Hadoop, Map Reduce, HDFS, Hive, Sqo...</td>\n",
       "      <td>Hadoop</td>\n",
       "    </tr>\n",
       "    <tr>\n",
       "      <th>277</th>\n",
       "      <td>Education Details \\nJanuary 1992 to January 20...</td>\n",
       "      <td>Health and fitness</td>\n",
       "    </tr>\n",
       "  </tbody>\n",
       "</table>\n",
       "</div>"
      ],
      "text/plain": [
       "                                                Resume            Category\n",
       "344  TECHNICAL SKILLS Programming Languages: Java (...      Java Developer\n",
       "381  TECHNICALSKILLS SpringMVC, Hibernate, JDBC, Ja...      Java Developer\n",
       "351  Education Details \\nJanuary 2013 Master of Eng...      Java Developer\n",
       "778  Skill Set: Hadoop, Map Reduce, HDFS, Hive, Sqo...              Hadoop\n",
       "277  Education Details \\nJanuary 1992 to January 20...  Health and fitness"
      ]
     },
     "execution_count": 33,
     "metadata": {},
     "output_type": "execute_result"
    }
   ],
   "source": [
    "#text preprocessing on test data also to clear the data \n",
    "testing_data.head()"
   ]
  },
  {
   "cell_type": "code",
   "execution_count": 34,
   "id": "11646531",
   "metadata": {},
   "outputs": [
    {
     "data": {
      "text/plain": [
       "(318, 2)"
      ]
     },
     "execution_count": 34,
     "metadata": {},
     "output_type": "execute_result"
    }
   ],
   "source": [
    "testing_data.shape"
   ]
  },
  {
   "cell_type": "code",
   "execution_count": 35,
   "id": "21a57ea4",
   "metadata": {},
   "outputs": [],
   "source": [
    "testing_data['New_Resume'] = testing_data['Resume'].apply(text_preprocess)  #applying function "
   ]
  },
  {
   "cell_type": "code",
   "execution_count": 36,
   "id": "465de4d5",
   "metadata": {},
   "outputs": [
    {
     "data": {
      "text/html": [
       "<div>\n",
       "<style scoped>\n",
       "    .dataframe tbody tr th:only-of-type {\n",
       "        vertical-align: middle;\n",
       "    }\n",
       "\n",
       "    .dataframe tbody tr th {\n",
       "        vertical-align: top;\n",
       "    }\n",
       "\n",
       "    .dataframe thead th {\n",
       "        text-align: right;\n",
       "    }\n",
       "</style>\n",
       "<table border=\"1\" class=\"dataframe\">\n",
       "  <thead>\n",
       "    <tr style=\"text-align: right;\">\n",
       "      <th></th>\n",
       "      <th>Resume</th>\n",
       "      <th>Category</th>\n",
       "      <th>New_Resume</th>\n",
       "    </tr>\n",
       "  </thead>\n",
       "  <tbody>\n",
       "    <tr>\n",
       "      <th>344</th>\n",
       "      <td>TECHNICAL SKILLS Programming Languages: Java (...</td>\n",
       "      <td>Java Developer</td>\n",
       "      <td>technic skill program languag java servlet jsp...</td>\n",
       "    </tr>\n",
       "    <tr>\n",
       "      <th>381</th>\n",
       "      <td>TECHNICALSKILLS SpringMVC, Hibernate, JDBC, Ja...</td>\n",
       "      <td>Java Developer</td>\n",
       "      <td>technicalskil springmvc hibern jdbc java j2ee ...</td>\n",
       "    </tr>\n",
       "    <tr>\n",
       "      <th>351</th>\n",
       "      <td>Education Details \\nJanuary 2013 Master of Eng...</td>\n",
       "      <td>Java Developer</td>\n",
       "      <td>educ detail januari 2013 master engin inform t...</td>\n",
       "    </tr>\n",
       "    <tr>\n",
       "      <th>778</th>\n",
       "      <td>Skill Set: Hadoop, Map Reduce, HDFS, Hive, Sqo...</td>\n",
       "      <td>Hadoop</td>\n",
       "      <td>skill set hadoop map reduc hdf hive sqoop java...</td>\n",
       "    </tr>\n",
       "    <tr>\n",
       "      <th>277</th>\n",
       "      <td>Education Details \\nJanuary 1992 to January 20...</td>\n",
       "      <td>Health and fitness</td>\n",
       "      <td>educ detail januari 1992 januari 2003 first ye...</td>\n",
       "    </tr>\n",
       "  </tbody>\n",
       "</table>\n",
       "</div>"
      ],
      "text/plain": [
       "                                                Resume            Category  \\\n",
       "344  TECHNICAL SKILLS Programming Languages: Java (...      Java Developer   \n",
       "381  TECHNICALSKILLS SpringMVC, Hibernate, JDBC, Ja...      Java Developer   \n",
       "351  Education Details \\nJanuary 2013 Master of Eng...      Java Developer   \n",
       "778  Skill Set: Hadoop, Map Reduce, HDFS, Hive, Sqo...              Hadoop   \n",
       "277  Education Details \\nJanuary 1992 to January 20...  Health and fitness   \n",
       "\n",
       "                                            New_Resume  \n",
       "344  technic skill program languag java servlet jsp...  \n",
       "381  technicalskil springmvc hibern jdbc java j2ee ...  \n",
       "351  educ detail januari 2013 master engin inform t...  \n",
       "778  skill set hadoop map reduc hdf hive sqoop java...  \n",
       "277  educ detail januari 1992 januari 2003 first ye...  "
      ]
     },
     "execution_count": 36,
     "metadata": {},
     "output_type": "execute_result"
    }
   ],
   "source": [
    "testing_data.head()"
   ]
  },
  {
   "cell_type": "code",
   "execution_count": 37,
   "id": "d5e3cef6",
   "metadata": {},
   "outputs": [
    {
     "data": {
      "text/html": [
       "<div>\n",
       "<style scoped>\n",
       "    .dataframe tbody tr th:only-of-type {\n",
       "        vertical-align: middle;\n",
       "    }\n",
       "\n",
       "    .dataframe tbody tr th {\n",
       "        vertical-align: top;\n",
       "    }\n",
       "\n",
       "    .dataframe thead th {\n",
       "        text-align: right;\n",
       "    }\n",
       "</style>\n",
       "<table border=\"1\" class=\"dataframe\">\n",
       "  <thead>\n",
       "    <tr style=\"text-align: right;\">\n",
       "      <th></th>\n",
       "      <th>Category</th>\n",
       "      <th>New_Resume</th>\n",
       "    </tr>\n",
       "  </thead>\n",
       "  <tbody>\n",
       "    <tr>\n",
       "      <th>344</th>\n",
       "      <td>Java Developer</td>\n",
       "      <td>technic skill program languag java servlet jsp...</td>\n",
       "    </tr>\n",
       "    <tr>\n",
       "      <th>381</th>\n",
       "      <td>Java Developer</td>\n",
       "      <td>technicalskil springmvc hibern jdbc java j2ee ...</td>\n",
       "    </tr>\n",
       "    <tr>\n",
       "      <th>351</th>\n",
       "      <td>Java Developer</td>\n",
       "      <td>educ detail januari 2013 master engin inform t...</td>\n",
       "    </tr>\n",
       "    <tr>\n",
       "      <th>778</th>\n",
       "      <td>Hadoop</td>\n",
       "      <td>skill set hadoop map reduc hdf hive sqoop java...</td>\n",
       "    </tr>\n",
       "    <tr>\n",
       "      <th>277</th>\n",
       "      <td>Health and fitness</td>\n",
       "      <td>educ detail januari 1992 januari 2003 first ye...</td>\n",
       "    </tr>\n",
       "  </tbody>\n",
       "</table>\n",
       "</div>"
      ],
      "text/plain": [
       "               Category                                         New_Resume\n",
       "344      Java Developer  technic skill program languag java servlet jsp...\n",
       "381      Java Developer  technicalskil springmvc hibern jdbc java j2ee ...\n",
       "351      Java Developer  educ detail januari 2013 master engin inform t...\n",
       "778              Hadoop  skill set hadoop map reduc hdf hive sqoop java...\n",
       "277  Health and fitness  educ detail januari 1992 januari 2003 first ye..."
      ]
     },
     "execution_count": 37,
     "metadata": {},
     "output_type": "execute_result"
    }
   ],
   "source": [
    "#now removing Resume column from test data aslo \n",
    "testing_data = testing_data.drop(['Resume'],axis = 1)\n",
    "testing_data.head()"
   ]
  },
  {
   "cell_type": "markdown",
   "id": "2c77071c",
   "metadata": {},
   "source": [
    "### Converting Target variable into numbers using label encoder using label encoding for training and test data "
   ]
  },
  {
   "cell_type": "code",
   "execution_count": 38,
   "id": "9bb2a2f6",
   "metadata": {},
   "outputs": [
    {
     "data": {
      "text/html": [
       "<div>\n",
       "<style scoped>\n",
       "    .dataframe tbody tr th:only-of-type {\n",
       "        vertical-align: middle;\n",
       "    }\n",
       "\n",
       "    .dataframe tbody tr th {\n",
       "        vertical-align: top;\n",
       "    }\n",
       "\n",
       "    .dataframe thead th {\n",
       "        text-align: right;\n",
       "    }\n",
       "</style>\n",
       "<table border=\"1\" class=\"dataframe\">\n",
       "  <thead>\n",
       "    <tr style=\"text-align: right;\">\n",
       "      <th></th>\n",
       "      <th>Category</th>\n",
       "      <th>New_Resume</th>\n",
       "    </tr>\n",
       "  </thead>\n",
       "  <tbody>\n",
       "    <tr>\n",
       "      <th>181</th>\n",
       "      <td>Web Designing</td>\n",
       "      <td>educ detail bachelor comput applic pune mahara...</td>\n",
       "    </tr>\n",
       "    <tr>\n",
       "      <th>274</th>\n",
       "      <td>Health and fitness</td>\n",
       "      <td>skill comput easili oper oper system like wind...</td>\n",
       "    </tr>\n",
       "    <tr>\n",
       "      <th>859</th>\n",
       "      <td>Blockchain</td>\n",
       "      <td>key skill program languag c python apex visual...</td>\n",
       "    </tr>\n",
       "  </tbody>\n",
       "</table>\n",
       "</div>"
      ],
      "text/plain": [
       "               Category                                         New_Resume\n",
       "181       Web Designing  educ detail bachelor comput applic pune mahara...\n",
       "274  Health and fitness  skill comput easili oper oper system like wind...\n",
       "859          Blockchain  key skill program languag c python apex visual..."
      ]
     },
     "execution_count": 38,
     "metadata": {},
     "output_type": "execute_result"
    }
   ],
   "source": [
    "training_data.head(3)"
   ]
  },
  {
   "cell_type": "code",
   "execution_count": 39,
   "id": "831c22b5",
   "metadata": {},
   "outputs": [
    {
     "data": {
      "text/plain": [
       "array(['Web Designing', 'Health and fitness', 'Blockchain', 'HR', 'Arts',\n",
       "       'Civil Engineer', 'Java Developer', 'ETL Developer',\n",
       "       'Data Science', 'Operations Manager', 'Mechanical Engineer',\n",
       "       'Network Security Engineer', 'Database', 'Electrical Engineering',\n",
       "       'DevOps Engineer', 'PMO', 'Sales', 'Hadoop', 'DotNet Developer',\n",
       "       'Automation Testing', 'Testing', 'Python Developer',\n",
       "       'Business Analyst', 'SAP Developer', 'Advocate'], dtype=object)"
      ]
     },
     "execution_count": 39,
     "metadata": {},
     "output_type": "execute_result"
    }
   ],
   "source": [
    "training_data['Category'].unique()"
   ]
  },
  {
   "cell_type": "code",
   "execution_count": 40,
   "id": "9e8dcc69",
   "metadata": {},
   "outputs": [
    {
     "data": {
      "text/plain": [
       "25"
      ]
     },
     "execution_count": 40,
     "metadata": {},
     "output_type": "execute_result"
    }
   ],
   "source": [
    "training_data['Category'].nunique()"
   ]
  },
  {
   "cell_type": "code",
   "execution_count": 41,
   "id": "5ac52eec",
   "metadata": {},
   "outputs": [],
   "source": [
    "#converting training data \n",
    "from sklearn.preprocessing import LabelEncoder\n",
    "le = LabelEncoder()\n",
    "training_data['Category'] = le.fit_transform(training_data['Category'])"
   ]
  },
  {
   "cell_type": "code",
   "execution_count": 42,
   "id": "5b9dea27",
   "metadata": {},
   "outputs": [
    {
     "data": {
      "text/html": [
       "<div>\n",
       "<style scoped>\n",
       "    .dataframe tbody tr th:only-of-type {\n",
       "        vertical-align: middle;\n",
       "    }\n",
       "\n",
       "    .dataframe tbody tr th {\n",
       "        vertical-align: top;\n",
       "    }\n",
       "\n",
       "    .dataframe thead th {\n",
       "        text-align: right;\n",
       "    }\n",
       "</style>\n",
       "<table border=\"1\" class=\"dataframe\">\n",
       "  <thead>\n",
       "    <tr style=\"text-align: right;\">\n",
       "      <th></th>\n",
       "      <th>Category</th>\n",
       "      <th>New_Resume</th>\n",
       "    </tr>\n",
       "  </thead>\n",
       "  <tbody>\n",
       "    <tr>\n",
       "      <th>181</th>\n",
       "      <td>24</td>\n",
       "      <td>educ detail bachelor comput applic pune mahara...</td>\n",
       "    </tr>\n",
       "    <tr>\n",
       "      <th>274</th>\n",
       "      <td>14</td>\n",
       "      <td>skill comput easili oper oper system like wind...</td>\n",
       "    </tr>\n",
       "    <tr>\n",
       "      <th>859</th>\n",
       "      <td>3</td>\n",
       "      <td>key skill program languag c python apex visual...</td>\n",
       "    </tr>\n",
       "    <tr>\n",
       "      <th>69</th>\n",
       "      <td>12</td>\n",
       "      <td>key skill computer account talli sincer hard w...</td>\n",
       "    </tr>\n",
       "    <tr>\n",
       "      <th>291</th>\n",
       "      <td>14</td>\n",
       "      <td>person skill good verbal written commun skill ...</td>\n",
       "    </tr>\n",
       "  </tbody>\n",
       "</table>\n",
       "</div>"
      ],
      "text/plain": [
       "     Category                                         New_Resume\n",
       "181        24  educ detail bachelor comput applic pune mahara...\n",
       "274        14  skill comput easili oper oper system like wind...\n",
       "859         3  key skill program languag c python apex visual...\n",
       "69         12  key skill computer account talli sincer hard w...\n",
       "291        14  person skill good verbal written commun skill ..."
      ]
     },
     "execution_count": 42,
     "metadata": {},
     "output_type": "execute_result"
    }
   ],
   "source": [
    "training_data.head()"
   ]
  },
  {
   "cell_type": "code",
   "execution_count": 43,
   "id": "1b120ef6",
   "metadata": {},
   "outputs": [
    {
     "data": {
      "text/plain": [
       "array([24, 14,  3, 12,  1,  5, 15, 10,  6, 18, 16, 17,  7, 11,  8, 19, 22,\n",
       "       13,  9,  2, 23, 20,  4, 21,  0])"
      ]
     },
     "execution_count": 43,
     "metadata": {},
     "output_type": "execute_result"
    }
   ],
   "source": [
    "training_data['Category'].unique()"
   ]
  },
  {
   "cell_type": "code",
   "execution_count": 44,
   "id": "b195ac83",
   "metadata": {},
   "outputs": [
    {
     "data": {
      "text/html": [
       "<div>\n",
       "<style scoped>\n",
       "    .dataframe tbody tr th:only-of-type {\n",
       "        vertical-align: middle;\n",
       "    }\n",
       "\n",
       "    .dataframe tbody tr th {\n",
       "        vertical-align: top;\n",
       "    }\n",
       "\n",
       "    .dataframe thead th {\n",
       "        text-align: right;\n",
       "    }\n",
       "</style>\n",
       "<table border=\"1\" class=\"dataframe\">\n",
       "  <thead>\n",
       "    <tr style=\"text-align: right;\">\n",
       "      <th></th>\n",
       "      <th>Category</th>\n",
       "      <th>New_Resume</th>\n",
       "    </tr>\n",
       "  </thead>\n",
       "  <tbody>\n",
       "    <tr>\n",
       "      <th>344</th>\n",
       "      <td>Java Developer</td>\n",
       "      <td>technic skill program languag java servlet jsp...</td>\n",
       "    </tr>\n",
       "    <tr>\n",
       "      <th>381</th>\n",
       "      <td>Java Developer</td>\n",
       "      <td>technicalskil springmvc hibern jdbc java j2ee ...</td>\n",
       "    </tr>\n",
       "    <tr>\n",
       "      <th>351</th>\n",
       "      <td>Java Developer</td>\n",
       "      <td>educ detail januari 2013 master engin inform t...</td>\n",
       "    </tr>\n",
       "  </tbody>\n",
       "</table>\n",
       "</div>"
      ],
      "text/plain": [
       "           Category                                         New_Resume\n",
       "344  Java Developer  technic skill program languag java servlet jsp...\n",
       "381  Java Developer  technicalskil springmvc hibern jdbc java j2ee ...\n",
       "351  Java Developer  educ detail januari 2013 master engin inform t..."
      ]
     },
     "execution_count": 44,
     "metadata": {},
     "output_type": "execute_result"
    }
   ],
   "source": [
    "#Now converting test data \n",
    "testing_data.head(3)"
   ]
  },
  {
   "cell_type": "code",
   "execution_count": 45,
   "id": "098cdc7e",
   "metadata": {},
   "outputs": [],
   "source": [
    "testing_data['Category'] = le.transform(testing_data['Category'])"
   ]
  },
  {
   "cell_type": "code",
   "execution_count": 46,
   "id": "80605618",
   "metadata": {},
   "outputs": [
    {
     "data": {
      "text/html": [
       "<div>\n",
       "<style scoped>\n",
       "    .dataframe tbody tr th:only-of-type {\n",
       "        vertical-align: middle;\n",
       "    }\n",
       "\n",
       "    .dataframe tbody tr th {\n",
       "        vertical-align: top;\n",
       "    }\n",
       "\n",
       "    .dataframe thead th {\n",
       "        text-align: right;\n",
       "    }\n",
       "</style>\n",
       "<table border=\"1\" class=\"dataframe\">\n",
       "  <thead>\n",
       "    <tr style=\"text-align: right;\">\n",
       "      <th></th>\n",
       "      <th>Category</th>\n",
       "      <th>New_Resume</th>\n",
       "    </tr>\n",
       "  </thead>\n",
       "  <tbody>\n",
       "    <tr>\n",
       "      <th>344</th>\n",
       "      <td>15</td>\n",
       "      <td>technic skill program languag java servlet jsp...</td>\n",
       "    </tr>\n",
       "    <tr>\n",
       "      <th>381</th>\n",
       "      <td>15</td>\n",
       "      <td>technicalskil springmvc hibern jdbc java j2ee ...</td>\n",
       "    </tr>\n",
       "    <tr>\n",
       "      <th>351</th>\n",
       "      <td>15</td>\n",
       "      <td>educ detail januari 2013 master engin inform t...</td>\n",
       "    </tr>\n",
       "    <tr>\n",
       "      <th>778</th>\n",
       "      <td>13</td>\n",
       "      <td>skill set hadoop map reduc hdf hive sqoop java...</td>\n",
       "    </tr>\n",
       "    <tr>\n",
       "      <th>277</th>\n",
       "      <td>14</td>\n",
       "      <td>educ detail januari 1992 januari 2003 first ye...</td>\n",
       "    </tr>\n",
       "  </tbody>\n",
       "</table>\n",
       "</div>"
      ],
      "text/plain": [
       "     Category                                         New_Resume\n",
       "344        15  technic skill program languag java servlet jsp...\n",
       "381        15  technicalskil springmvc hibern jdbc java j2ee ...\n",
       "351        15  educ detail januari 2013 master engin inform t...\n",
       "778        13  skill set hadoop map reduc hdf hive sqoop java...\n",
       "277        14  educ detail januari 1992 januari 2003 first ye..."
      ]
     },
     "execution_count": 46,
     "metadata": {},
     "output_type": "execute_result"
    }
   ],
   "source": [
    "testing_data.head()"
   ]
  },
  {
   "cell_type": "code",
   "execution_count": 47,
   "id": "6349ed06",
   "metadata": {},
   "outputs": [
    {
     "data": {
      "text/plain": [
       "25"
      ]
     },
     "execution_count": 47,
     "metadata": {},
     "output_type": "execute_result"
    }
   ],
   "source": [
    "testing_data['Category'].nunique()"
   ]
  },
  {
   "cell_type": "markdown",
   "id": "a9216ea4",
   "metadata": {},
   "source": [
    "### Converting independent variable 'New Resume' into numbers for test and train data using vectorizer"
   ]
  },
  {
   "cell_type": "code",
   "execution_count": 48,
   "id": "75887f64",
   "metadata": {},
   "outputs": [
    {
     "data": {
      "text/html": [
       "<div>\n",
       "<style scoped>\n",
       "    .dataframe tbody tr th:only-of-type {\n",
       "        vertical-align: middle;\n",
       "    }\n",
       "\n",
       "    .dataframe tbody tr th {\n",
       "        vertical-align: top;\n",
       "    }\n",
       "\n",
       "    .dataframe thead th {\n",
       "        text-align: right;\n",
       "    }\n",
       "</style>\n",
       "<table border=\"1\" class=\"dataframe\">\n",
       "  <thead>\n",
       "    <tr style=\"text-align: right;\">\n",
       "      <th></th>\n",
       "      <th>Category</th>\n",
       "      <th>New_Resume</th>\n",
       "    </tr>\n",
       "  </thead>\n",
       "  <tbody>\n",
       "    <tr>\n",
       "      <th>181</th>\n",
       "      <td>24</td>\n",
       "      <td>educ detail bachelor comput applic pune mahara...</td>\n",
       "    </tr>\n",
       "    <tr>\n",
       "      <th>274</th>\n",
       "      <td>14</td>\n",
       "      <td>skill comput easili oper oper system like wind...</td>\n",
       "    </tr>\n",
       "    <tr>\n",
       "      <th>859</th>\n",
       "      <td>3</td>\n",
       "      <td>key skill program languag c python apex visual...</td>\n",
       "    </tr>\n",
       "  </tbody>\n",
       "</table>\n",
       "</div>"
      ],
      "text/plain": [
       "     Category                                         New_Resume\n",
       "181        24  educ detail bachelor comput applic pune mahara...\n",
       "274        14  skill comput easili oper oper system like wind...\n",
       "859         3  key skill program languag c python apex visual..."
      ]
     },
     "execution_count": 48,
     "metadata": {},
     "output_type": "execute_result"
    }
   ],
   "source": [
    "training_data.head(3)"
   ]
  },
  {
   "cell_type": "code",
   "execution_count": 49,
   "id": "d2586d38",
   "metadata": {},
   "outputs": [],
   "source": [
    "#converting train data into numbers \n",
    "from sklearn.feature_extraction.text import CountVectorizer\n",
    "cv = CountVectorizer()\n",
    "X_train_final = cv.fit_transform(training_data['New_Resume']).toarray()"
   ]
  },
  {
   "cell_type": "code",
   "execution_count": 50,
   "id": "5242dd23",
   "metadata": {},
   "outputs": [
    {
     "data": {
      "text/plain": [
       "array([[0, 0, 0, ..., 0, 0, 0],\n",
       "       [0, 0, 0, ..., 0, 0, 0],\n",
       "       [0, 0, 0, ..., 0, 0, 0],\n",
       "       ...,\n",
       "       [0, 0, 0, ..., 0, 0, 0],\n",
       "       [0, 0, 0, ..., 0, 0, 0],\n",
       "       [0, 0, 0, ..., 0, 0, 0]], dtype=int64)"
      ]
     },
     "execution_count": 50,
     "metadata": {},
     "output_type": "execute_result"
    }
   ],
   "source": [
    "X_train_final"
   ]
  },
  {
   "cell_type": "code",
   "execution_count": 51,
   "id": "d2e4752b",
   "metadata": {},
   "outputs": [
    {
     "data": {
      "text/plain": [
       "(644, 5181)"
      ]
     },
     "execution_count": 51,
     "metadata": {},
     "output_type": "execute_result"
    }
   ],
   "source": [
    "X_train_final.shape"
   ]
  },
  {
   "cell_type": "code",
   "execution_count": 52,
   "id": "5a506b88",
   "metadata": {},
   "outputs": [
    {
     "data": {
      "text/html": [
       "<div>\n",
       "<style scoped>\n",
       "    .dataframe tbody tr th:only-of-type {\n",
       "        vertical-align: middle;\n",
       "    }\n",
       "\n",
       "    .dataframe tbody tr th {\n",
       "        vertical-align: top;\n",
       "    }\n",
       "\n",
       "    .dataframe thead th {\n",
       "        text-align: right;\n",
       "    }\n",
       "</style>\n",
       "<table border=\"1\" class=\"dataframe\">\n",
       "  <thead>\n",
       "    <tr style=\"text-align: right;\">\n",
       "      <th></th>\n",
       "      <th>Category</th>\n",
       "      <th>New_Resume</th>\n",
       "    </tr>\n",
       "  </thead>\n",
       "  <tbody>\n",
       "    <tr>\n",
       "      <th>344</th>\n",
       "      <td>15</td>\n",
       "      <td>technic skill program languag java servlet jsp...</td>\n",
       "    </tr>\n",
       "    <tr>\n",
       "      <th>381</th>\n",
       "      <td>15</td>\n",
       "      <td>technicalskil springmvc hibern jdbc java j2ee ...</td>\n",
       "    </tr>\n",
       "    <tr>\n",
       "      <th>351</th>\n",
       "      <td>15</td>\n",
       "      <td>educ detail januari 2013 master engin inform t...</td>\n",
       "    </tr>\n",
       "  </tbody>\n",
       "</table>\n",
       "</div>"
      ],
      "text/plain": [
       "     Category                                         New_Resume\n",
       "344        15  technic skill program languag java servlet jsp...\n",
       "381        15  technicalskil springmvc hibern jdbc java j2ee ...\n",
       "351        15  educ detail januari 2013 master engin inform t..."
      ]
     },
     "execution_count": 52,
     "metadata": {},
     "output_type": "execute_result"
    }
   ],
   "source": [
    "testing_data.head(3)"
   ]
  },
  {
   "cell_type": "code",
   "execution_count": 53,
   "id": "45f45213",
   "metadata": {},
   "outputs": [],
   "source": [
    "X_test_final = cv.transform(testing_data['New_Resume']).toarray()"
   ]
  },
  {
   "cell_type": "code",
   "execution_count": 54,
   "id": "73eb6e75",
   "metadata": {},
   "outputs": [
    {
     "data": {
      "text/plain": [
       "(318, 5181)"
      ]
     },
     "execution_count": 54,
     "metadata": {},
     "output_type": "execute_result"
    }
   ],
   "source": [
    "X_test_final.shape"
   ]
  },
  {
   "cell_type": "code",
   "execution_count": 55,
   "id": "2bb8f361",
   "metadata": {},
   "outputs": [],
   "source": [
    "y_final = training_data['Category']   #converting into seriers "
   ]
  },
  {
   "cell_type": "code",
   "execution_count": 56,
   "id": "2cd89c0b",
   "metadata": {},
   "outputs": [
    {
     "data": {
      "text/plain": [
       "181    24\n",
       "274    14\n",
       "859     3\n",
       "69     12\n",
       "291    14\n",
       "       ..\n",
       "106     1\n",
       "270    14\n",
       "860     3\n",
       "435    21\n",
       "102     0\n",
       "Name: Category, Length: 644, dtype: int32"
      ]
     },
     "execution_count": 56,
     "metadata": {},
     "output_type": "execute_result"
    }
   ],
   "source": [
    "y_final"
   ]
  },
  {
   "cell_type": "code",
   "execution_count": 57,
   "id": "a70a95f9",
   "metadata": {},
   "outputs": [],
   "source": [
    "#seperating y_train \n",
    "y_train_final = training_data['Category'].values  #converting into array and saving in y_train_final"
   ]
  },
  {
   "cell_type": "code",
   "execution_count": 58,
   "id": "60564fb8",
   "metadata": {},
   "outputs": [
    {
     "data": {
      "text/plain": [
       "(644,)"
      ]
     },
     "execution_count": 58,
     "metadata": {},
     "output_type": "execute_result"
    }
   ],
   "source": [
    "y_train_final.shape"
   ]
  },
  {
   "cell_type": "code",
   "execution_count": 59,
   "id": "f3cc7f8c",
   "metadata": {},
   "outputs": [
    {
     "data": {
      "text/plain": [
       "(644,)"
      ]
     },
     "execution_count": 59,
     "metadata": {},
     "output_type": "execute_result"
    }
   ],
   "source": [
    "y_final.shape"
   ]
  },
  {
   "cell_type": "code",
   "execution_count": 60,
   "id": "cacf7f1f",
   "metadata": {},
   "outputs": [],
   "source": [
    "y_final_1 = np.array(y_final)   #converting from series to array formaat "
   ]
  },
  {
   "cell_type": "code",
   "execution_count": 61,
   "id": "fc153b1e",
   "metadata": {},
   "outputs": [
    {
     "data": {
      "text/plain": [
       "(644,)"
      ]
     },
     "execution_count": 61,
     "metadata": {},
     "output_type": "execute_result"
    }
   ],
   "source": [
    "y_final_1.shape"
   ]
  },
  {
   "cell_type": "code",
   "execution_count": 62,
   "id": "3b5aa3b4",
   "metadata": {},
   "outputs": [],
   "source": [
    "#seperating y_test\n",
    "y_test_final = testing_data['Category'].values"
   ]
  },
  {
   "cell_type": "code",
   "execution_count": 63,
   "id": "de28fcf7",
   "metadata": {},
   "outputs": [
    {
     "data": {
      "text/plain": [
       "(318,)"
      ]
     },
     "execution_count": 63,
     "metadata": {},
     "output_type": "execute_result"
    }
   ],
   "source": [
    "y_test_final.shape"
   ]
  },
  {
   "cell_type": "code",
   "execution_count": 64,
   "id": "15fe001b",
   "metadata": {},
   "outputs": [
    {
     "data": {
      "text/plain": [
       "array([[0, 0, 0, ..., 0, 0, 0],\n",
       "       [0, 0, 0, ..., 0, 0, 0],\n",
       "       [0, 0, 0, ..., 0, 0, 0],\n",
       "       ...,\n",
       "       [0, 0, 0, ..., 0, 0, 0],\n",
       "       [0, 0, 0, ..., 0, 0, 0],\n",
       "       [0, 0, 0, ..., 0, 0, 0]], dtype=int64)"
      ]
     },
     "execution_count": 64,
     "metadata": {},
     "output_type": "execute_result"
    }
   ],
   "source": [
    "X_train_final"
   ]
  },
  {
   "cell_type": "code",
   "execution_count": 65,
   "id": "30e5a6bf",
   "metadata": {},
   "outputs": [
    {
     "data": {
      "text/plain": [
       "array([[0, 0, 0, ..., 0, 0, 0],\n",
       "       [0, 0, 0, ..., 0, 0, 0],\n",
       "       [0, 0, 0, ..., 0, 0, 0],\n",
       "       ...,\n",
       "       [0, 0, 0, ..., 0, 0, 0],\n",
       "       [0, 0, 0, ..., 0, 0, 0],\n",
       "       [0, 0, 0, ..., 0, 0, 0]], dtype=int64)"
      ]
     },
     "execution_count": 65,
     "metadata": {},
     "output_type": "execute_result"
    }
   ],
   "source": [
    "X_test_final"
   ]
  },
  {
   "cell_type": "code",
   "execution_count": 66,
   "id": "00ac8732",
   "metadata": {},
   "outputs": [
    {
     "data": {
      "text/html": [
       "<style>#sk-container-id-1 {color: black;background-color: white;}#sk-container-id-1 pre{padding: 0;}#sk-container-id-1 div.sk-toggleable {background-color: white;}#sk-container-id-1 label.sk-toggleable__label {cursor: pointer;display: block;width: 100%;margin-bottom: 0;padding: 0.3em;box-sizing: border-box;text-align: center;}#sk-container-id-1 label.sk-toggleable__label-arrow:before {content: \"▸\";float: left;margin-right: 0.25em;color: #696969;}#sk-container-id-1 label.sk-toggleable__label-arrow:hover:before {color: black;}#sk-container-id-1 div.sk-estimator:hover label.sk-toggleable__label-arrow:before {color: black;}#sk-container-id-1 div.sk-toggleable__content {max-height: 0;max-width: 0;overflow: hidden;text-align: left;background-color: #f0f8ff;}#sk-container-id-1 div.sk-toggleable__content pre {margin: 0.2em;color: black;border-radius: 0.25em;background-color: #f0f8ff;}#sk-container-id-1 input.sk-toggleable__control:checked~div.sk-toggleable__content {max-height: 200px;max-width: 100%;overflow: auto;}#sk-container-id-1 input.sk-toggleable__control:checked~label.sk-toggleable__label-arrow:before {content: \"▾\";}#sk-container-id-1 div.sk-estimator input.sk-toggleable__control:checked~label.sk-toggleable__label {background-color: #d4ebff;}#sk-container-id-1 div.sk-label input.sk-toggleable__control:checked~label.sk-toggleable__label {background-color: #d4ebff;}#sk-container-id-1 input.sk-hidden--visually {border: 0;clip: rect(1px 1px 1px 1px);clip: rect(1px, 1px, 1px, 1px);height: 1px;margin: -1px;overflow: hidden;padding: 0;position: absolute;width: 1px;}#sk-container-id-1 div.sk-estimator {font-family: monospace;background-color: #f0f8ff;border: 1px dotted black;border-radius: 0.25em;box-sizing: border-box;margin-bottom: 0.5em;}#sk-container-id-1 div.sk-estimator:hover {background-color: #d4ebff;}#sk-container-id-1 div.sk-parallel-item::after {content: \"\";width: 100%;border-bottom: 1px solid gray;flex-grow: 1;}#sk-container-id-1 div.sk-label:hover label.sk-toggleable__label {background-color: #d4ebff;}#sk-container-id-1 div.sk-serial::before {content: \"\";position: absolute;border-left: 1px solid gray;box-sizing: border-box;top: 0;bottom: 0;left: 50%;z-index: 0;}#sk-container-id-1 div.sk-serial {display: flex;flex-direction: column;align-items: center;background-color: white;padding-right: 0.2em;padding-left: 0.2em;position: relative;}#sk-container-id-1 div.sk-item {position: relative;z-index: 1;}#sk-container-id-1 div.sk-parallel {display: flex;align-items: stretch;justify-content: center;background-color: white;position: relative;}#sk-container-id-1 div.sk-item::before, #sk-container-id-1 div.sk-parallel-item::before {content: \"\";position: absolute;border-left: 1px solid gray;box-sizing: border-box;top: 0;bottom: 0;left: 50%;z-index: -1;}#sk-container-id-1 div.sk-parallel-item {display: flex;flex-direction: column;z-index: 1;position: relative;background-color: white;}#sk-container-id-1 div.sk-parallel-item:first-child::after {align-self: flex-end;width: 50%;}#sk-container-id-1 div.sk-parallel-item:last-child::after {align-self: flex-start;width: 50%;}#sk-container-id-1 div.sk-parallel-item:only-child::after {width: 0;}#sk-container-id-1 div.sk-dashed-wrapped {border: 1px dashed gray;margin: 0 0.4em 0.5em 0.4em;box-sizing: border-box;padding-bottom: 0.4em;background-color: white;}#sk-container-id-1 div.sk-label label {font-family: monospace;font-weight: bold;display: inline-block;line-height: 1.2em;}#sk-container-id-1 div.sk-label-container {text-align: center;}#sk-container-id-1 div.sk-container {/* jupyter's `normalize.less` sets `[hidden] { display: none; }` but bootstrap.min.css set `[hidden] { display: none !important; }` so we also need the `!important` here to be able to override the default hidden behavior on the sphinx rendered scikit-learn.org. See: https://github.com/scikit-learn/scikit-learn/issues/21755 */display: inline-block !important;position: relative;}#sk-container-id-1 div.sk-text-repr-fallback {display: none;}</style><div id=\"sk-container-id-1\" class=\"sk-top-container\"><div class=\"sk-text-repr-fallback\"><pre>MultinomialNB()</pre><b>In a Jupyter environment, please rerun this cell to show the HTML representation or trust the notebook. <br />On GitHub, the HTML representation is unable to render, please try loading this page with nbviewer.org.</b></div><div class=\"sk-container\" hidden><div class=\"sk-item\"><div class=\"sk-estimator sk-toggleable\"><input class=\"sk-toggleable__control sk-hidden--visually\" id=\"sk-estimator-id-1\" type=\"checkbox\" checked><label for=\"sk-estimator-id-1\" class=\"sk-toggleable__label sk-toggleable__label-arrow\">MultinomialNB</label><div class=\"sk-toggleable__content\"><pre>MultinomialNB()</pre></div></div></div></div></div>"
      ],
      "text/plain": [
       "MultinomialNB()"
      ]
     },
     "execution_count": 66,
     "metadata": {},
     "output_type": "execute_result"
    }
   ],
   "source": [
    "#Naive Bayes algorithm before data balancing\n",
    "from sklearn.metrics import accuracy_score,classification_report,confusion_matrix\n",
    "from sklearn.naive_bayes import MultinomialNB\n",
    "ml = MultinomialNB()\n",
    "ml.fit(X_train_final,y_train_final)"
   ]
  },
  {
   "cell_type": "code",
   "execution_count": 67,
   "id": "f0c6a308",
   "metadata": {},
   "outputs": [
    {
     "data": {
      "text/plain": [
       "0.9984472049689441"
      ]
     },
     "execution_count": 67,
     "metadata": {},
     "output_type": "execute_result"
    }
   ],
   "source": [
    "ml.score(X_train_final,y_train_final)"
   ]
  },
  {
   "cell_type": "code",
   "execution_count": 68,
   "id": "4c38af17",
   "metadata": {},
   "outputs": [
    {
     "data": {
      "text/plain": [
       "0.9874213836477987"
      ]
     },
     "execution_count": 68,
     "metadata": {},
     "output_type": "execute_result"
    }
   ],
   "source": [
    "ml.score(X_test_final,y_test_final)"
   ]
  },
  {
   "cell_type": "markdown",
   "id": "4522cf89",
   "metadata": {},
   "source": [
    "## Balancing the data"
   ]
  },
  {
   "cell_type": "markdown",
   "id": "07747037",
   "metadata": {},
   "source": [
    "### 1] Downsampling"
   ]
  },
  {
   "cell_type": "code",
   "execution_count": 69,
   "id": "d16a0774",
   "metadata": {},
   "outputs": [],
   "source": [
    "from imblearn.under_sampling import NearMiss\n",
    "nm = NearMiss(version = 1, n_neighbors = 3)\n",
    "\n",
    "X_train_res,y_train_res = nm.fit_resample(X_train_final,y_train_final)\n",
    "X_test_res,y_test_res = nm.fit_resample(X_test_final,y_test_final)"
   ]
  },
  {
   "cell_type": "code",
   "execution_count": 70,
   "id": "d32eecd7",
   "metadata": {},
   "outputs": [
    {
     "data": {
      "text/plain": [
       "0.996"
      ]
     },
     "execution_count": 70,
     "metadata": {},
     "output_type": "execute_result"
    }
   ],
   "source": [
    "ml.score(X_train_res,y_train_res)"
   ]
  },
  {
   "cell_type": "code",
   "execution_count": 71,
   "id": "df249166",
   "metadata": {},
   "outputs": [
    {
     "data": {
      "text/plain": [
       "0.9733333333333334"
      ]
     },
     "execution_count": 71,
     "metadata": {},
     "output_type": "execute_result"
    }
   ],
   "source": [
    "ml.score(X_test_res,y_test_res)"
   ]
  },
  {
   "cell_type": "markdown",
   "id": "3dd3d7ce",
   "metadata": {},
   "source": [
    "### 2] Upsampling"
   ]
  },
  {
   "cell_type": "code",
   "execution_count": 72,
   "id": "b555835c",
   "metadata": {},
   "outputs": [],
   "source": [
    "from imblearn.over_sampling import SMOTE\n",
    "sm = SMOTE()\n",
    "X_train_up,y_train_up = sm.fit_resample(X_train_final,y_train_final)\n",
    "X_test_up,y_test_up = nm.fit_resample(X_test_final,y_test_final)"
   ]
  },
  {
   "cell_type": "code",
   "execution_count": 73,
   "id": "c8107e46",
   "metadata": {},
   "outputs": [
    {
     "data": {
      "text/plain": [
       "0.9866666666666667"
      ]
     },
     "execution_count": 73,
     "metadata": {},
     "output_type": "execute_result"
    }
   ],
   "source": [
    "ml.score(X_train_up,y_train_up)"
   ]
  },
  {
   "cell_type": "code",
   "execution_count": 74,
   "id": "29f7bb80",
   "metadata": {},
   "outputs": [
    {
     "data": {
      "text/plain": [
       "0.9733333333333334"
      ]
     },
     "execution_count": 74,
     "metadata": {},
     "output_type": "execute_result"
    }
   ],
   "source": [
    "ml.score(X_test_up,y_test_up)"
   ]
  },
  {
   "cell_type": "markdown",
   "id": "65fcef38",
   "metadata": {},
   "source": [
    "### Here is conclude that upsampling and downsampling is not effective so , we go without resampling to train the model "
   ]
  },
  {
   "cell_type": "code",
   "execution_count": 75,
   "id": "82c90828",
   "metadata": {},
   "outputs": [],
   "source": [
    "from sklearn.linear_model import LogisticRegression \n",
    "from sklearn.naive_bayes import MultinomialNB\n",
    "from sklearn.neighbors import KNeighborsClassifier\n",
    "from sklearn.tree import DecisionTreeClassifier\n",
    "from sklearn.ensemble import RandomForestClassifier\n",
    "from sklearn.svm import SVC "
   ]
  },
  {
   "cell_type": "code",
   "execution_count": 76,
   "id": "864256ad",
   "metadata": {},
   "outputs": [],
   "source": [
    "def LR(X_train_final,y_train_final,X_test_final,y_test_final):\n",
    "    lg = LogisticRegression()\n",
    "    lg.fit(X_train_final,y_train_final)\n",
    "    print('Training accuracy score :{} '.format(lg.score(X_train_final,y_train_final)))\n",
    "    print('Testing accuracy score :{} '.format(lg.score(X_test_final,y_test_final)))\n",
    "    print()\n",
    "    \n",
    "    y_train_pred = lg.predict(X_train_final)\n",
    "    y_test_pred = lg.predict(X_test_final)\n",
    "    \n",
    "    print('----Classification Report -------')\n",
    "    print('\\nTrain =\\n ', classification_report(y_train_final,y_train_pred))\n",
    "    print('\\nTest =\\n ', classification_report(y_test_final,y_test_pred))"
   ]
  },
  {
   "cell_type": "code",
   "execution_count": 77,
   "id": "71c9c348",
   "metadata": {},
   "outputs": [],
   "source": [
    "def NB(X_train_final,y_train_final,X_test_final,y_test_final):\n",
    "    nb = MultinomialNB()\n",
    "    nb.fit(X_train_final,y_train_final)\n",
    "    print(\"Train Accuracy_score = {} \".format(nb.score(X_train_final,y_train_final)))\n",
    "    print(\"Test Accuracy_score = {} \".format(nb.score(X_test_final,y_test_final)))\n",
    "    print()\n",
    "    \n",
    "    y_train_pred = nb.predict(X_train_final)\n",
    "    y_test_pred = nb.predict(X_test_final)\n",
    "   \n",
    "    print('----Classification Report -------')\n",
    "    print('Train = ',classification_report(y_train_final , y_train_pred))\n",
    "    print(\"Test = \",classification_report(y_test_final , y_test_pred))"
   ]
  },
  {
   "cell_type": "code",
   "execution_count": 78,
   "id": "a733e62b",
   "metadata": {},
   "outputs": [],
   "source": [
    "def KNN(X_train_final,y_train_final,X_test_final,y_test_final):\n",
    "    knn = KNeighborsClassifier()\n",
    "    knn.fit(X_train_final,y_train_final)\n",
    "    print(\"Train Accuracy_score = {} \".format(knn.score(X_train_final,y_train_final)))\n",
    "    print(\"Test Accuracy_score = {} \".format(knn.score(X_test_final,y_test_final)))\n",
    "    print()\n",
    "    \n",
    "    y_train_pred = knn.predict(X_train_final)\n",
    "    y_test_pred = knn.predict(X_test_final)\n",
    "    \n",
    "    print('----Classification Report -------')\n",
    "    print('Train = ',classification_report(y_train_final , y_train_pred))\n",
    "    print(\"Test = \",classification_report(y_test_final , y_test_pred))"
   ]
  },
  {
   "cell_type": "code",
   "execution_count": 79,
   "id": "8ddcaebd",
   "metadata": {},
   "outputs": [],
   "source": [
    "def DT(X_train_final,y_train_final,X_test_final,y_test_final):\n",
    "    dt = DecisionTreeClassifier()\n",
    "    dt.fit(X_train_final,y_train_final)\n",
    "    print(\"Train Accuracy_score = {} \".format(dt.score(X_train_final,y_train_final)))\n",
    "    print(\"Test Accuracy_score = {} \".format(dt.score(X_test_final,y_test_final)))\n",
    "    print()\n",
    "   \n",
    "    y_train_pred = dt.predict(X_train_final)\n",
    "    y_test_pred = dt.predict(X_test_final)\n",
    "  \n",
    "    print('----Classification Report -------')\n",
    "    print('Train = ',classification_report(y_train_final , y_train_pred))\n",
    "    print(\"Test = \",classification_report(y_test_final , y_test_pred))\n",
    "  "
   ]
  },
  {
   "cell_type": "code",
   "execution_count": 80,
   "id": "a56a55dd",
   "metadata": {},
   "outputs": [],
   "source": [
    "def RF(X_train_final,y_train_final,X_test_final,y_test_final):\n",
    "    rf = RandomForestClassifier()\n",
    "    rf.fit(X_train_final,y_train_final)\n",
    "    print(\"Train Accuracy_score = {} \".format(rf.score(X_train_final,y_train_final)))\n",
    "    print(\"Test Accuracy_score = {} \".format(rf.score(X_test_final,y_test_final)))\n",
    "    print()\n",
    "   \n",
    "    y_train_pred = rf.predict(X_train_final)\n",
    "    y_test_pred = rf.predict(X_test_final)\n",
    "  \n",
    "    print('----Classification Report -------')\n",
    "    print('Train = ',classification_report(y_train_final , y_train_pred))\n",
    "    print(\"Test = \",classification_report(y_test_final , y_test_pred))"
   ]
  },
  {
   "cell_type": "code",
   "execution_count": 81,
   "id": "ef1c7a8d",
   "metadata": {},
   "outputs": [],
   "source": [
    "def SVM(X_train_final,y_train_final,X_test_final,y_test_final):\n",
    "    svm = SVC(kernel = 'rbf',C= 1.0)\n",
    "    svm.fit(X_train_final,y_train_final)\n",
    "    print(\"Train Accuracy_score = {} \".format(svm.score(X_train_final,y_train_final)))\n",
    "    print(\"Test Accuracy_score = {} \".format(svm.score(X_test_final,y_test_final)))\n",
    "    print()\n",
    "  \n",
    "    y_train_pred = svm.predict(X_train_final)\n",
    "    y_test_pred = svm.predict(X_test_final)\n",
    "    \n",
    "    print('----Classification Report -------')\n",
    "    print('Train = ',classification_report(y_train_final , y_train_pred))\n",
    "    print(\"Test = \",classification_report(y_test_final , y_test_pred))"
   ]
  },
  {
   "cell_type": "code",
   "execution_count": 82,
   "id": "3b75f559",
   "metadata": {},
   "outputs": [],
   "source": [
    "def checking(X_train_final,y_train_final,X_test_final,y_test_final):\n",
    "    print('*'*100)\n",
    "    print('Logistic Regression')\n",
    "    LR(X_train_final,y_train_final,X_test_final,y_test_final)\n",
    "    print('*'*100)\n",
    "    print('Naive Bayes')\n",
    "    NB(X_train_final,y_train_final,X_test_final,y_test_final)\n",
    "    print('*'*100)\n",
    "    print('K-Nearest Neighbors')\n",
    "    KNN(X_train_final,y_train_final,X_test_final,y_test_final)\n",
    "    print('*'*100)\n",
    "    print('Decision Tree')\n",
    "    DT(X_train_final,y_train_final,X_test_final,y_test_final)\n",
    "    print('*'*100)\n",
    "    print('Random Forest')\n",
    "    RF(X_train_final,y_train_final,X_test_final,y_test_final)\n",
    "    print('*'*100)\n",
    "    print('SVM')\n",
    "    SVM(X_train_final,y_train_final,X_test_final,y_test_final)\n",
    "    print('*'*100)"
   ]
  },
  {
   "cell_type": "code",
   "execution_count": 83,
   "id": "2d9ed5ff",
   "metadata": {},
   "outputs": [
    {
     "name": "stdout",
     "output_type": "stream",
     "text": [
      "****************************************************************************************************\n",
      "Logistic Regression\n"
     ]
    },
    {
     "name": "stderr",
     "output_type": "stream",
     "text": [
      "C:\\Users\\pcrid\\anaconda3\\lib\\site-packages\\sklearn\\linear_model\\_logistic.py:458: ConvergenceWarning: lbfgs failed to converge (status=1):\n",
      "STOP: TOTAL NO. of ITERATIONS REACHED LIMIT.\n",
      "\n",
      "Increase the number of iterations (max_iter) or scale the data as shown in:\n",
      "    https://scikit-learn.org/stable/modules/preprocessing.html\n",
      "Please also refer to the documentation for alternative solver options:\n",
      "    https://scikit-learn.org/stable/modules/linear_model.html#logistic-regression\n",
      "  n_iter_i = _check_optimize_result(\n"
     ]
    },
    {
     "name": "stdout",
     "output_type": "stream",
     "text": [
      "Training accuracy score :1.0 \n",
      "Testing accuracy score :0.9905660377358491 \n",
      "\n",
      "----Classification Report -------\n",
      "\n",
      "Train =\n",
      "                precision    recall  f1-score   support\n",
      "\n",
      "           0       1.00      1.00      1.00        13\n",
      "           1       1.00      1.00      1.00        26\n",
      "           2       1.00      1.00      1.00        19\n",
      "           3       1.00      1.00      1.00        28\n",
      "           4       1.00      1.00      1.00        19\n",
      "           5       1.00      1.00      1.00        10\n",
      "           6       1.00      1.00      1.00        28\n",
      "           7       1.00      1.00      1.00        24\n",
      "           8       1.00      1.00      1.00        34\n",
      "           9       1.00      1.00      1.00        17\n",
      "          10       1.00      1.00      1.00        31\n",
      "          11       1.00      1.00      1.00        20\n",
      "          12       1.00      1.00      1.00        26\n",
      "          13       1.00      1.00      1.00        32\n",
      "          14       1.00      1.00      1.00        20\n",
      "          15       1.00      1.00      1.00        54\n",
      "          16       1.00      1.00      1.00        27\n",
      "          17       1.00      1.00      1.00        19\n",
      "          18       1.00      1.00      1.00        22\n",
      "          19       1.00      1.00      1.00        21\n",
      "          20       1.00      1.00      1.00        32\n",
      "          21       1.00      1.00      1.00        14\n",
      "          22       1.00      1.00      1.00        28\n",
      "          23       1.00      1.00      1.00        43\n",
      "          24       1.00      1.00      1.00        37\n",
      "\n",
      "    accuracy                           1.00       644\n",
      "   macro avg       1.00      1.00      1.00       644\n",
      "weighted avg       1.00      1.00      1.00       644\n",
      "\n",
      "\n",
      "Test =\n",
      "                precision    recall  f1-score   support\n",
      "\n",
      "           0       1.00      0.71      0.83         7\n",
      "           1       1.00      1.00      1.00        10\n",
      "           2       1.00      1.00      1.00         7\n",
      "           3       1.00      1.00      1.00        12\n",
      "           4       1.00      1.00      1.00         9\n",
      "           5       1.00      1.00      1.00        14\n",
      "           6       1.00      1.00      1.00        12\n",
      "           7       1.00      1.00      1.00         9\n",
      "           8       1.00      0.95      0.98        21\n",
      "           9       1.00      1.00      1.00        11\n",
      "          10       1.00      1.00      1.00         9\n",
      "          11       1.00      1.00      1.00        10\n",
      "          12       0.90      1.00      0.95        18\n",
      "          13       1.00      1.00      1.00        10\n",
      "          14       1.00      1.00      1.00        10\n",
      "          15       1.00      1.00      1.00        30\n",
      "          16       1.00      1.00      1.00        13\n",
      "          17       1.00      1.00      1.00         6\n",
      "          18       1.00      1.00      1.00        18\n",
      "          19       0.90      1.00      0.95         9\n",
      "          20       1.00      1.00      1.00        16\n",
      "          21       1.00      1.00      1.00        10\n",
      "          22       1.00      1.00      1.00        12\n",
      "          23       1.00      1.00      1.00        27\n",
      "          24       1.00      1.00      1.00         8\n",
      "\n",
      "    accuracy                           0.99       318\n",
      "   macro avg       0.99      0.99      0.99       318\n",
      "weighted avg       0.99      0.99      0.99       318\n",
      "\n",
      "****************************************************************************************************\n",
      "Naive Bayes\n",
      "Train Accuracy_score = 0.9984472049689441 \n",
      "Test Accuracy_score = 0.9874213836477987 \n",
      "\n",
      "----Classification Report -------\n",
      "Train =                precision    recall  f1-score   support\n",
      "\n",
      "           0       1.00      1.00      1.00        13\n",
      "           1       1.00      1.00      1.00        26\n",
      "           2       1.00      1.00      1.00        19\n",
      "           3       1.00      1.00      1.00        28\n",
      "           4       1.00      1.00      1.00        19\n",
      "           5       1.00      1.00      1.00        10\n",
      "           6       1.00      1.00      1.00        28\n",
      "           7       1.00      1.00      1.00        24\n",
      "           8       1.00      1.00      1.00        34\n",
      "           9       1.00      0.94      0.97        17\n",
      "          10       1.00      1.00      1.00        31\n",
      "          11       1.00      1.00      1.00        20\n",
      "          12       1.00      1.00      1.00        26\n",
      "          13       1.00      1.00      1.00        32\n",
      "          14       1.00      1.00      1.00        20\n",
      "          15       1.00      1.00      1.00        54\n",
      "          16       1.00      1.00      1.00        27\n",
      "          17       1.00      1.00      1.00        19\n",
      "          18       1.00      1.00      1.00        22\n",
      "          19       1.00      1.00      1.00        21\n",
      "          20       0.97      1.00      0.98        32\n",
      "          21       1.00      1.00      1.00        14\n",
      "          22       1.00      1.00      1.00        28\n",
      "          23       1.00      1.00      1.00        43\n",
      "          24       1.00      1.00      1.00        37\n",
      "\n",
      "    accuracy                           1.00       644\n",
      "   macro avg       1.00      1.00      1.00       644\n",
      "weighted avg       1.00      1.00      1.00       644\n",
      "\n",
      "Test =                precision    recall  f1-score   support\n",
      "\n",
      "           0       1.00      1.00      1.00         7\n",
      "           1       1.00      1.00      1.00        10\n",
      "           2       1.00      1.00      1.00         7\n",
      "           3       1.00      1.00      1.00        12\n",
      "           4       1.00      1.00      1.00         9\n",
      "           5       1.00      1.00      1.00        14\n",
      "           6       1.00      1.00      1.00        12\n",
      "           7       1.00      1.00      1.00         9\n",
      "           8       1.00      0.95      0.98        21\n",
      "           9       1.00      0.73      0.84        11\n",
      "          10       1.00      1.00      1.00         9\n",
      "          11       1.00      1.00      1.00        10\n",
      "          12       1.00      1.00      1.00        18\n",
      "          13       1.00      1.00      1.00        10\n",
      "          14       1.00      1.00      1.00        10\n",
      "          15       1.00      1.00      1.00        30\n",
      "          16       1.00      1.00      1.00        13\n",
      "          17       1.00      1.00      1.00         6\n",
      "          18       1.00      1.00      1.00        18\n",
      "          19       0.90      1.00      0.95         9\n",
      "          20       0.84      1.00      0.91        16\n",
      "          21       1.00      1.00      1.00        10\n",
      "          22       1.00      1.00      1.00        12\n",
      "          23       1.00      1.00      1.00        27\n",
      "          24       1.00      1.00      1.00         8\n",
      "\n",
      "    accuracy                           0.99       318\n",
      "   macro avg       0.99      0.99      0.99       318\n",
      "weighted avg       0.99      0.99      0.99       318\n",
      "\n",
      "****************************************************************************************************\n",
      "K-Nearest Neighbors\n",
      "Train Accuracy_score = 0.9549689440993789 \n",
      "Test Accuracy_score = 0.9245283018867925 \n",
      "\n",
      "----Classification Report -------\n",
      "Train =                precision    recall  f1-score   support\n",
      "\n",
      "           0       0.71      0.38      0.50        13\n",
      "           1       1.00      1.00      1.00        26\n",
      "           2       0.93      0.68      0.79        19\n",
      "           3       0.93      1.00      0.97        28\n",
      "           4       1.00      0.89      0.94        19\n",
      "           5       1.00      0.80      0.89        10\n",
      "           6       0.96      0.93      0.95        28\n",
      "           7       1.00      0.92      0.96        24\n",
      "           8       1.00      0.94      0.97        34\n",
      "           9       0.92      0.71      0.80        17\n",
      "          10       1.00      1.00      1.00        31\n",
      "          11       1.00      1.00      1.00        20\n",
      "          12       0.65      1.00      0.79        26\n",
      "          13       1.00      1.00      1.00        32\n",
      "          14       1.00      1.00      1.00        20\n",
      "          15       1.00      1.00      1.00        54\n",
      "          16       0.93      1.00      0.96        27\n",
      "          17       1.00      1.00      1.00        19\n",
      "          18       1.00      1.00      1.00        22\n",
      "          19       1.00      1.00      1.00        21\n",
      "          20       0.94      1.00      0.97        32\n",
      "          21       0.88      1.00      0.93        14\n",
      "          22       1.00      1.00      1.00        28\n",
      "          23       0.96      1.00      0.98        43\n",
      "          24       1.00      1.00      1.00        37\n",
      "\n",
      "    accuracy                           0.95       644\n",
      "   macro avg       0.95      0.93      0.94       644\n",
      "weighted avg       0.96      0.95      0.95       644\n",
      "\n",
      "Test =                precision    recall  f1-score   support\n",
      "\n",
      "           0       1.00      0.43      0.60         7\n",
      "           1       1.00      1.00      1.00        10\n",
      "           2       1.00      0.71      0.83         7\n",
      "           3       0.80      1.00      0.89        12\n",
      "           4       1.00      1.00      1.00         9\n",
      "           5       1.00      0.57      0.73        14\n",
      "           6       0.91      0.83      0.87        12\n",
      "           7       1.00      0.89      0.94         9\n",
      "           8       1.00      0.90      0.95        21\n",
      "           9       1.00      0.36      0.53        11\n",
      "          10       1.00      1.00      1.00         9\n",
      "          11       1.00      1.00      1.00        10\n",
      "          12       0.62      1.00      0.77        18\n",
      "          13       1.00      1.00      1.00        10\n",
      "          14       1.00      1.00      1.00        10\n",
      "          15       1.00      1.00      1.00        30\n",
      "          16       1.00      1.00      1.00        13\n",
      "          17       1.00      1.00      1.00         6\n",
      "          18       1.00      1.00      1.00        18\n",
      "          19       1.00      1.00      1.00         9\n",
      "          20       0.80      1.00      0.89        16\n",
      "          21       0.83      1.00      0.91        10\n",
      "          22       0.92      1.00      0.96        12\n",
      "          23       0.93      1.00      0.96        27\n",
      "          24       1.00      1.00      1.00         8\n",
      "\n",
      "    accuracy                           0.92       318\n",
      "   macro avg       0.95      0.91      0.91       318\n",
      "weighted avg       0.94      0.92      0.92       318\n",
      "\n",
      "****************************************************************************************************\n",
      "Decision Tree\n"
     ]
    },
    {
     "name": "stdout",
     "output_type": "stream",
     "text": [
      "Train Accuracy_score = 1.0 \n",
      "Test Accuracy_score = 1.0 \n",
      "\n",
      "----Classification Report -------\n",
      "Train =                precision    recall  f1-score   support\n",
      "\n",
      "           0       1.00      1.00      1.00        13\n",
      "           1       1.00      1.00      1.00        26\n",
      "           2       1.00      1.00      1.00        19\n",
      "           3       1.00      1.00      1.00        28\n",
      "           4       1.00      1.00      1.00        19\n",
      "           5       1.00      1.00      1.00        10\n",
      "           6       1.00      1.00      1.00        28\n",
      "           7       1.00      1.00      1.00        24\n",
      "           8       1.00      1.00      1.00        34\n",
      "           9       1.00      1.00      1.00        17\n",
      "          10       1.00      1.00      1.00        31\n",
      "          11       1.00      1.00      1.00        20\n",
      "          12       1.00      1.00      1.00        26\n",
      "          13       1.00      1.00      1.00        32\n",
      "          14       1.00      1.00      1.00        20\n",
      "          15       1.00      1.00      1.00        54\n",
      "          16       1.00      1.00      1.00        27\n",
      "          17       1.00      1.00      1.00        19\n",
      "          18       1.00      1.00      1.00        22\n",
      "          19       1.00      1.00      1.00        21\n",
      "          20       1.00      1.00      1.00        32\n",
      "          21       1.00      1.00      1.00        14\n",
      "          22       1.00      1.00      1.00        28\n",
      "          23       1.00      1.00      1.00        43\n",
      "          24       1.00      1.00      1.00        37\n",
      "\n",
      "    accuracy                           1.00       644\n",
      "   macro avg       1.00      1.00      1.00       644\n",
      "weighted avg       1.00      1.00      1.00       644\n",
      "\n",
      "Test =                precision    recall  f1-score   support\n",
      "\n",
      "           0       1.00      1.00      1.00         7\n",
      "           1       1.00      1.00      1.00        10\n",
      "           2       1.00      1.00      1.00         7\n",
      "           3       1.00      1.00      1.00        12\n",
      "           4       1.00      1.00      1.00         9\n",
      "           5       1.00      1.00      1.00        14\n",
      "           6       1.00      1.00      1.00        12\n",
      "           7       1.00      1.00      1.00         9\n",
      "           8       1.00      1.00      1.00        21\n",
      "           9       1.00      1.00      1.00        11\n",
      "          10       1.00      1.00      1.00         9\n",
      "          11       1.00      1.00      1.00        10\n",
      "          12       1.00      1.00      1.00        18\n",
      "          13       1.00      1.00      1.00        10\n",
      "          14       1.00      1.00      1.00        10\n",
      "          15       1.00      1.00      1.00        30\n",
      "          16       1.00      1.00      1.00        13\n",
      "          17       1.00      1.00      1.00         6\n",
      "          18       1.00      1.00      1.00        18\n",
      "          19       1.00      1.00      1.00         9\n",
      "          20       1.00      1.00      1.00        16\n",
      "          21       1.00      1.00      1.00        10\n",
      "          22       1.00      1.00      1.00        12\n",
      "          23       1.00      1.00      1.00        27\n",
      "          24       1.00      1.00      1.00         8\n",
      "\n",
      "    accuracy                           1.00       318\n",
      "   macro avg       1.00      1.00      1.00       318\n",
      "weighted avg       1.00      1.00      1.00       318\n",
      "\n",
      "****************************************************************************************************\n",
      "Random Forest\n",
      "Train Accuracy_score = 1.0 \n",
      "Test Accuracy_score = 0.9874213836477987 \n",
      "\n",
      "----Classification Report -------\n",
      "Train =                precision    recall  f1-score   support\n",
      "\n",
      "           0       1.00      1.00      1.00        13\n",
      "           1       1.00      1.00      1.00        26\n",
      "           2       1.00      1.00      1.00        19\n",
      "           3       1.00      1.00      1.00        28\n",
      "           4       1.00      1.00      1.00        19\n",
      "           5       1.00      1.00      1.00        10\n",
      "           6       1.00      1.00      1.00        28\n",
      "           7       1.00      1.00      1.00        24\n",
      "           8       1.00      1.00      1.00        34\n",
      "           9       1.00      1.00      1.00        17\n",
      "          10       1.00      1.00      1.00        31\n",
      "          11       1.00      1.00      1.00        20\n",
      "          12       1.00      1.00      1.00        26\n",
      "          13       1.00      1.00      1.00        32\n",
      "          14       1.00      1.00      1.00        20\n",
      "          15       1.00      1.00      1.00        54\n",
      "          16       1.00      1.00      1.00        27\n",
      "          17       1.00      1.00      1.00        19\n",
      "          18       1.00      1.00      1.00        22\n",
      "          19       1.00      1.00      1.00        21\n",
      "          20       1.00      1.00      1.00        32\n",
      "          21       1.00      1.00      1.00        14\n",
      "          22       1.00      1.00      1.00        28\n",
      "          23       1.00      1.00      1.00        43\n",
      "          24       1.00      1.00      1.00        37\n",
      "\n",
      "    accuracy                           1.00       644\n",
      "   macro avg       1.00      1.00      1.00       644\n",
      "weighted avg       1.00      1.00      1.00       644\n",
      "\n",
      "Test =                precision    recall  f1-score   support\n",
      "\n",
      "           0       1.00      0.71      0.83         7\n",
      "           1       1.00      1.00      1.00        10\n",
      "           2       1.00      1.00      1.00         7\n",
      "           3       1.00      1.00      1.00        12\n",
      "           4       1.00      1.00      1.00         9\n",
      "           5       1.00      1.00      1.00        14\n",
      "           6       1.00      1.00      1.00        12\n",
      "           7       1.00      1.00      1.00         9\n",
      "           8       1.00      0.90      0.95        21\n",
      "           9       1.00      1.00      1.00        11\n",
      "          10       1.00      1.00      1.00         9\n",
      "          11       1.00      1.00      1.00        10\n",
      "          12       0.90      1.00      0.95        18\n",
      "          13       1.00      1.00      1.00        10\n",
      "          14       1.00      1.00      1.00        10\n",
      "          15       0.97      1.00      0.98        30\n",
      "          16       1.00      1.00      1.00        13\n",
      "          17       1.00      1.00      1.00         6\n",
      "          18       1.00      1.00      1.00        18\n",
      "          19       0.90      1.00      0.95         9\n",
      "          20       1.00      1.00      1.00        16\n",
      "          21       1.00      1.00      1.00        10\n",
      "          22       1.00      1.00      1.00        12\n",
      "          23       1.00      1.00      1.00        27\n",
      "          24       1.00      1.00      1.00         8\n",
      "\n",
      "    accuracy                           0.99       318\n",
      "   macro avg       0.99      0.98      0.99       318\n",
      "weighted avg       0.99      0.99      0.99       318\n",
      "\n",
      "****************************************************************************************************\n",
      "SVM\n",
      "Train Accuracy_score = 0.9440993788819876 \n",
      "Test Accuracy_score = 0.8930817610062893 \n",
      "\n",
      "----Classification Report -------\n",
      "Train =                precision    recall  f1-score   support\n",
      "\n",
      "           0       1.00      0.38      0.56        13\n",
      "           1       1.00      0.88      0.94        26\n",
      "           2       0.94      0.89      0.92        19\n",
      "           3       1.00      1.00      1.00        28\n",
      "           4       1.00      1.00      1.00        19\n",
      "           5       1.00      0.80      0.89        10\n",
      "           6       0.97      1.00      0.98        28\n",
      "           7       1.00      1.00      1.00        24\n",
      "           8       1.00      0.97      0.99        34\n",
      "           9       1.00      0.82      0.90        17\n",
      "          10       1.00      1.00      1.00        31\n",
      "          11       1.00      0.80      0.89        20\n",
      "          12       0.43      1.00      0.60        26\n",
      "          13       1.00      1.00      1.00        32\n",
      "          14       1.00      0.85      0.92        20\n",
      "          15       1.00      0.87      0.93        54\n",
      "          16       1.00      1.00      1.00        27\n",
      "          17       1.00      1.00      1.00        19\n",
      "          18       1.00      1.00      1.00        22\n",
      "          19       1.00      1.00      1.00        21\n",
      "          20       1.00      0.91      0.95        32\n",
      "          21       1.00      1.00      1.00        14\n",
      "          22       1.00      1.00      1.00        28\n",
      "          23       1.00      1.00      1.00        43\n",
      "          24       1.00      1.00      1.00        37\n",
      "\n",
      "    accuracy                           0.94       644\n",
      "   macro avg       0.97      0.93      0.94       644\n",
      "weighted avg       0.97      0.94      0.95       644\n",
      "\n",
      "Test =                precision    recall  f1-score   support\n",
      "\n",
      "           0       1.00      0.43      0.60         7\n",
      "           1       1.00      0.70      0.82        10\n",
      "           2       1.00      1.00      1.00         7\n",
      "           3       1.00      1.00      1.00        12\n",
      "           4       0.82      1.00      0.90         9\n",
      "           5       1.00      0.57      0.73        14\n",
      "           6       0.92      1.00      0.96        12\n",
      "           7       1.00      1.00      1.00         9\n",
      "           8       1.00      0.90      0.95        21\n",
      "           9       1.00      0.55      0.71        11\n",
      "          10       1.00      1.00      1.00         9\n",
      "          11       1.00      0.80      0.89        10\n",
      "          12       0.37      1.00      0.54        18\n",
      "          13       1.00      1.00      1.00        10\n",
      "          14       1.00      0.80      0.89        10\n",
      "          15       1.00      0.83      0.91        30\n",
      "          16       1.00      1.00      1.00        13\n",
      "          17       1.00      1.00      1.00         6\n",
      "          18       1.00      1.00      1.00        18\n",
      "          19       1.00      1.00      1.00         9\n",
      "          20       1.00      0.69      0.81        16\n",
      "          21       1.00      1.00      1.00        10\n",
      "          22       1.00      1.00      1.00        12\n",
      "          23       1.00      1.00      1.00        27\n",
      "          24       1.00      1.00      1.00         8\n",
      "\n",
      "    accuracy                           0.89       318\n",
      "   macro avg       0.96      0.89      0.91       318\n",
      "weighted avg       0.96      0.89      0.90       318\n",
      "\n",
      "****************************************************************************************************\n"
     ]
    }
   ],
   "source": [
    "checking(X_train_final,y_train_final,X_test_final,y_test_final)"
   ]
  },
  {
   "cell_type": "code",
   "execution_count": 84,
   "id": "9fd3b2b3",
   "metadata": {},
   "outputs": [
    {
     "name": "stdout",
     "output_type": "stream",
     "text": [
      "Train Accuracy_score = 1.0 \n",
      "Test Accuracy_score = 1.0 \n",
      "\n",
      "----Classification Report -------\n",
      "Train =                precision    recall  f1-score   support\n",
      "\n",
      "           0       1.00      1.00      1.00        13\n",
      "           1       1.00      1.00      1.00        26\n",
      "           2       1.00      1.00      1.00        19\n",
      "           3       1.00      1.00      1.00        28\n",
      "           4       1.00      1.00      1.00        19\n",
      "           5       1.00      1.00      1.00        10\n",
      "           6       1.00      1.00      1.00        28\n",
      "           7       1.00      1.00      1.00        24\n",
      "           8       1.00      1.00      1.00        34\n",
      "           9       1.00      1.00      1.00        17\n",
      "          10       1.00      1.00      1.00        31\n",
      "          11       1.00      1.00      1.00        20\n",
      "          12       1.00      1.00      1.00        26\n",
      "          13       1.00      1.00      1.00        32\n",
      "          14       1.00      1.00      1.00        20\n",
      "          15       1.00      1.00      1.00        54\n",
      "          16       1.00      1.00      1.00        27\n",
      "          17       1.00      1.00      1.00        19\n",
      "          18       1.00      1.00      1.00        22\n",
      "          19       1.00      1.00      1.00        21\n",
      "          20       1.00      1.00      1.00        32\n",
      "          21       1.00      1.00      1.00        14\n",
      "          22       1.00      1.00      1.00        28\n",
      "          23       1.00      1.00      1.00        43\n",
      "          24       1.00      1.00      1.00        37\n",
      "\n",
      "    accuracy                           1.00       644\n",
      "   macro avg       1.00      1.00      1.00       644\n",
      "weighted avg       1.00      1.00      1.00       644\n",
      "\n",
      "Test =                precision    recall  f1-score   support\n",
      "\n",
      "           0       1.00      1.00      1.00         7\n",
      "           1       1.00      1.00      1.00        10\n",
      "           2       1.00      1.00      1.00         7\n",
      "           3       1.00      1.00      1.00        12\n",
      "           4       1.00      1.00      1.00         9\n",
      "           5       1.00      1.00      1.00        14\n",
      "           6       1.00      1.00      1.00        12\n",
      "           7       1.00      1.00      1.00         9\n",
      "           8       1.00      1.00      1.00        21\n",
      "           9       1.00      1.00      1.00        11\n",
      "          10       1.00      1.00      1.00         9\n",
      "          11       1.00      1.00      1.00        10\n",
      "          12       1.00      1.00      1.00        18\n",
      "          13       1.00      1.00      1.00        10\n",
      "          14       1.00      1.00      1.00        10\n",
      "          15       1.00      1.00      1.00        30\n",
      "          16       1.00      1.00      1.00        13\n",
      "          17       1.00      1.00      1.00         6\n",
      "          18       1.00      1.00      1.00        18\n",
      "          19       1.00      1.00      1.00         9\n",
      "          20       1.00      1.00      1.00        16\n",
      "          21       1.00      1.00      1.00        10\n",
      "          22       1.00      1.00      1.00        12\n",
      "          23       1.00      1.00      1.00        27\n",
      "          24       1.00      1.00      1.00         8\n",
      "\n",
      "    accuracy                           1.00       318\n",
      "   macro avg       1.00      1.00      1.00       318\n",
      "weighted avg       1.00      1.00      1.00       318\n",
      "\n"
     ]
    }
   ],
   "source": [
    "dt = DecisionTreeClassifier()\n",
    "dt.fit(X_train_final,y_train_final)\n",
    "print(\"Train Accuracy_score = {} \".format(dt.score(X_train_final,y_train_final)))\n",
    "print(\"Test Accuracy_score = {} \".format(dt.score(X_test_final,y_test_final)))\n",
    "print()\n",
    "   \n",
    "y_train_pred = dt.predict(X_train_final)\n",
    "y_test_pred = dt.predict(X_test_final)\n",
    "  \n",
    "print('----Classification Report -------')\n",
    "print('Train = ',classification_report(y_train_final , y_train_pred))\n",
    "print(\"Test = \",classification_report(y_test_final , y_test_pred))   "
   ]
  },
  {
   "cell_type": "code",
   "execution_count": 85,
   "id": "d407b129",
   "metadata": {},
   "outputs": [
    {
     "data": {
      "text/plain": [
       "['Advocate',\n",
       " 'Arts',\n",
       " 'Automation Testing',\n",
       " 'Blockchain',\n",
       " 'Business Analyst',\n",
       " 'Civil Engineer',\n",
       " 'Data Science',\n",
       " 'Database',\n",
       " 'DevOps Engineer',\n",
       " 'DotNet Developer',\n",
       " 'ETL Developer',\n",
       " 'Electrical Engineering',\n",
       " 'HR',\n",
       " 'Hadoop',\n",
       " 'Health and fitness',\n",
       " 'Java Developer',\n",
       " 'Mechanical Engineer',\n",
       " 'Network Security Engineer',\n",
       " 'Operations Manager',\n",
       " 'PMO',\n",
       " 'Python Developer',\n",
       " 'SAP Developer',\n",
       " 'Sales',\n",
       " 'Testing',\n",
       " 'Web Designing']"
      ]
     },
     "execution_count": 85,
     "metadata": {},
     "output_type": "execute_result"
    }
   ],
   "source": [
    "pro=list(le.classes_)                #extract classes\n",
    "pro"
   ]
  },
  {
   "cell_type": "code",
   "execution_count": null,
   "id": "73989135",
   "metadata": {},
   "outputs": [],
   "source": []
  },
  {
   "cell_type": "markdown",
   "id": "05c97212",
   "metadata": {},
   "source": [
    "## to test the model we taking some example for prediction "
   ]
  },
  {
   "cell_type": "code",
   "execution_count": 86,
   "id": "9f7719f3",
   "metadata": {},
   "outputs": [],
   "source": [
    "def prediction(sentence):\n",
    "    \n",
    "    cs = []   #creating a empty list\n",
    "    profiles = list(le.classes_)   #extract job profile name\n",
    "    clean_sentence = text_preprocess(sentence)  #call the textpreprocess function for cleaning the text and store into the new variable\n",
    "    cs.append(clean_sentence)      #append the cleaning data into empty list\n",
    "    s = cv.transform(cs)    #convert it into vector\n",
    "    s = s.toarray()             #convert it into numpy array\n",
    "    num = dt.predict(s)[0]         #use model for prediction\n",
    "    return profiles[num]    \n"
   ]
  },
  {
   "cell_type": "code",
   "execution_count": null,
   "id": "8b254b37",
   "metadata": {},
   "outputs": [],
   "source": []
  },
  {
   "cell_type": "code",
   "execution_count": 99,
   "id": "eb7f2f06",
   "metadata": {},
   "outputs": [
    {
     "data": {
      "text/plain": [
       "'Data Science'"
      ]
     },
     "execution_count": 99,
     "metadata": {},
     "output_type": "execute_result"
    }
   ],
   "source": [
    "n = [\"Skills • Python • Tableau • Data Visualization • R Studio • Machine Learning • Statistics (IABAC Certified Data Scientist)\"\n",
    "      \"• Experience: 1+ years in managing business, data science consulting, and leading innovation projects.\"\n",
    "      \"• Strong advocate of augmented era, bringing business concepts in machine learning, AI, robotics, etc., to real-world solutions.\"\n",
    "      \"Education Details: January 2017, B. Tech Computer Science & Engineering, Mohali, Punjab, Indo Global College of Engineering\"\n",
    "      \"Work Experience:\"\n",
    "      \"• Data Science Consultant - Datamites (13 months)\"\n",
    "      \"• Data Science Consultant - Heretic Solutions Pvt Ltd (24 months)\"\n",
    "      \"Skills Summary:\"\n",
    "      \"• Machine Learning (24 months)\"\n",
    "      \"• Python (24 months)\"\n",
    "      \"• Solutions (24 months)\"\n",
    "      \"• Data Science (24 months)\"\n",
    "      \"• Data Visualization (24 months)\"\n",
    "      \"• Tableau (24 months)\"]\n",
    "prediction(n[0])"
   ]
  },
  {
   "cell_type": "code",
   "execution_count": 87,
   "id": "f368a02d",
   "metadata": {},
   "outputs": [
    {
     "data": {
      "text/plain": [
       "'Python Developer'"
      ]
     },
     "execution_count": 87,
     "metadata": {},
     "output_type": "execute_result"
    }
   ],
   "source": [
    "j=\"Analytical, motivated and hard-working Python Developer with over five years of experience designing, debugging and troubleshooting applications using Flask and Python coding languages. Hoping to use my advanced development skills to build and enhance banking applications for the finance industry.\"\n",
    "prediction(j)"
   ]
  },
  {
   "cell_type": "code",
   "execution_count": 89,
   "id": "178260e8",
   "metadata": {},
   "outputs": [
    {
     "data": {
      "text/plain": [
       "'Health and fitness'"
      ]
     },
     "execution_count": 89,
     "metadata": {},
     "output_type": "execute_result"
    }
   ],
   "source": [
    "p=\"Fitness,Personal Training, Fitness Training,Wellness.Strength Training.Nutrition.Exercise Physiology.Wellness Coaching.\"\n",
    "prediction(p)"
   ]
  },
  {
   "cell_type": "code",
   "execution_count": 91,
   "id": "51b90439",
   "metadata": {},
   "outputs": [
    {
     "data": {
      "text/plain": [
       "'Health and fitness'"
      ]
     },
     "execution_count": 91,
     "metadata": {},
     "output_type": "execute_result"
    }
   ],
   "source": [
    "p=[\"Fitness,Personal Training, Fitness Training,Wellness.Strength Training.Nutrition.Exercise Physiology.Wellness Coaching.\"]\n",
    "prediction(p[0])"
   ]
  },
  {
   "cell_type": "code",
   "execution_count": 104,
   "id": "3dbd0354",
   "metadata": {},
   "outputs": [
    {
     "data": {
      "text/plain": [
       "'Arts'"
      ]
     },
     "execution_count": 104,
     "metadata": {},
     "output_type": "execute_result"
    }
   ],
   "source": [
    "h = ['Education Details January 2017    Rachana Sansad School of Interior Deign January 2013    Holy Family High School Master of Commerce Marketing Mumbai, Maharashtra University of Mumbai Drawing & Arts & Craft Teacher  Drawing & Arts & Craft Teacher - Ghatkopar YMCA'\n",
    "'Skill Details' \n",
    "'Company Details' \n",
    "'company - Ghatkopar YMCA'\n",
    "'description - for 3 Years.'\n",
    "'â Worked in Jungle Cubs Gym as a Co-ordinator for 1 Year.']\n",
    "prediction(h[0])"
   ]
  },
  {
   "cell_type": "code",
   "execution_count": 106,
   "id": "ff3447a8",
   "metadata": {},
   "outputs": [
    {
     "data": {
      "text/plain": [
       "'Arts'"
      ]
     },
     "execution_count": 106,
     "metadata": {},
     "output_type": "execute_result"
    }
   ],
   "source": [
    "r = 'Education Details January 2017    Rachana Sansad School of Interior Deign January 2013    Holy Family High School Master of Commerce Marketing Mumbai, Maharashtra University of Mumbai Drawing & Arts & Craft Teacher  Drawing & Arts & Craft Teacher - Ghatkopar YMCA Skill Details  Company Details  company - Ghatkopar YMCA description - for 3 Years. â Worked in Jungle Cubs Gym as a Co-ordinator for 1 Year.'\n",
    "prediction(r)"
   ]
  },
  {
   "cell_type": "code",
   "execution_count": 113,
   "id": "a2f7569b",
   "metadata": {},
   "outputs": [
    {
     "data": {
      "text/plain": [
       "'Civil Engineer'"
      ]
     },
     "execution_count": 113,
     "metadata": {},
     "output_type": "execute_result"
    }
   ],
   "source": [
    "g = ['Education Details January 2005 S.S.C  Baramati, Maharashtra M.E.S. Highschool B.E. Civil Engineering Pune, Maharashtra Singhad Institute Of Technology And Science civil site engineer  Civil engineer'\n",
    "'Skill Details Site Engineer- Exprience - 60 monthsCompany Details  company - Vasundhara nirmiti properties description - Civil engineer company - shri balaji housing company description - Execution of all civil work company - Ganesh construction description - Site engineer']\n",
    "prediction(g[0])"
   ]
  },
  {
   "cell_type": "code",
   "execution_count": null,
   "id": "9ed9d5ed",
   "metadata": {},
   "outputs": [],
   "source": []
  },
  {
   "cell_type": "code",
   "execution_count": null,
   "id": "7f941c2c",
   "metadata": {},
   "outputs": [],
   "source": []
  },
  {
   "cell_type": "code",
   "execution_count": null,
   "id": "e211014c",
   "metadata": {},
   "outputs": [],
   "source": []
  },
  {
   "cell_type": "code",
   "execution_count": null,
   "id": "efe39a77",
   "metadata": {},
   "outputs": [],
   "source": []
  },
  {
   "cell_type": "code",
   "execution_count": null,
   "id": "c5421eb9",
   "metadata": {},
   "outputs": [],
   "source": []
  },
  {
   "cell_type": "code",
   "execution_count": null,
   "id": "7b51191a",
   "metadata": {},
   "outputs": [],
   "source": []
  },
  {
   "cell_type": "code",
   "execution_count": null,
   "id": "478b72b1",
   "metadata": {},
   "outputs": [],
   "source": []
  },
  {
   "cell_type": "code",
   "execution_count": null,
   "id": "c09c52e4",
   "metadata": {},
   "outputs": [],
   "source": []
  },
  {
   "cell_type": "code",
   "execution_count": null,
   "id": "35cf4564",
   "metadata": {},
   "outputs": [],
   "source": []
  },
  {
   "cell_type": "code",
   "execution_count": null,
   "id": "c40664e6",
   "metadata": {},
   "outputs": [],
   "source": []
  },
  {
   "cell_type": "code",
   "execution_count": null,
   "id": "25f67a7f",
   "metadata": {},
   "outputs": [],
   "source": []
  },
  {
   "cell_type": "code",
   "execution_count": null,
   "id": "ac15674a",
   "metadata": {},
   "outputs": [],
   "source": []
  },
  {
   "cell_type": "code",
   "execution_count": null,
   "id": "481b74c9",
   "metadata": {},
   "outputs": [],
   "source": []
  },
  {
   "cell_type": "code",
   "execution_count": null,
   "id": "2e124caf",
   "metadata": {},
   "outputs": [],
   "source": []
  },
  {
   "cell_type": "code",
   "execution_count": null,
   "id": "cf7c7692",
   "metadata": {},
   "outputs": [],
   "source": []
  },
  {
   "cell_type": "code",
   "execution_count": null,
   "id": "3fcdba44",
   "metadata": {},
   "outputs": [],
   "source": []
  },
  {
   "cell_type": "code",
   "execution_count": null,
   "id": "56a2c7b6",
   "metadata": {},
   "outputs": [],
   "source": []
  },
  {
   "cell_type": "code",
   "execution_count": null,
   "id": "b79e31ab",
   "metadata": {},
   "outputs": [],
   "source": []
  },
  {
   "cell_type": "code",
   "execution_count": null,
   "id": "cfca1607",
   "metadata": {},
   "outputs": [],
   "source": []
  },
  {
   "cell_type": "code",
   "execution_count": null,
   "id": "52b9f55f",
   "metadata": {},
   "outputs": [],
   "source": []
  },
  {
   "cell_type": "code",
   "execution_count": null,
   "id": "d5a3e962",
   "metadata": {},
   "outputs": [],
   "source": []
  },
  {
   "cell_type": "code",
   "execution_count": null,
   "id": "2f0e200a",
   "metadata": {},
   "outputs": [],
   "source": []
  },
  {
   "cell_type": "code",
   "execution_count": null,
   "id": "9303c3f5",
   "metadata": {},
   "outputs": [],
   "source": []
  },
  {
   "cell_type": "code",
   "execution_count": null,
   "id": "2253fc87",
   "metadata": {},
   "outputs": [],
   "source": []
  },
  {
   "cell_type": "code",
   "execution_count": null,
   "id": "e6b39615",
   "metadata": {},
   "outputs": [],
   "source": []
  },
  {
   "cell_type": "code",
   "execution_count": null,
   "id": "2dc5ba09",
   "metadata": {},
   "outputs": [],
   "source": []
  },
  {
   "cell_type": "code",
   "execution_count": null,
   "id": "6d17f371",
   "metadata": {},
   "outputs": [],
   "source": []
  },
  {
   "cell_type": "code",
   "execution_count": null,
   "id": "614ea929",
   "metadata": {},
   "outputs": [],
   "source": []
  },
  {
   "cell_type": "code",
   "execution_count": null,
   "id": "42a10da3",
   "metadata": {},
   "outputs": [],
   "source": []
  },
  {
   "cell_type": "code",
   "execution_count": null,
   "id": "09ca10b8",
   "metadata": {},
   "outputs": [],
   "source": []
  },
  {
   "cell_type": "code",
   "execution_count": null,
   "id": "9fa7d813",
   "metadata": {},
   "outputs": [],
   "source": []
  },
  {
   "cell_type": "code",
   "execution_count": null,
   "id": "fc8ec9dd",
   "metadata": {},
   "outputs": [],
   "source": []
  }
 ],
 "metadata": {
  "kernelspec": {
   "display_name": "Python 3 (ipykernel)",
   "language": "python",
   "name": "python3"
  },
  "language_info": {
   "codemirror_mode": {
    "name": "ipython",
    "version": 3
   },
   "file_extension": ".py",
   "mimetype": "text/x-python",
   "name": "python",
   "nbconvert_exporter": "python",
   "pygments_lexer": "ipython3",
   "version": "3.10.13"
  }
 },
 "nbformat": 4,
 "nbformat_minor": 5
}
